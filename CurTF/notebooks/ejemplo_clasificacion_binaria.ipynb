{
 "cells": [
  {
   "cell_type": "markdown",
   "metadata": {},
   "source": [
    "# Librerias"
   ]
  },
  {
   "cell_type": "code",
   "execution_count": 19,
   "metadata": {},
   "outputs": [],
   "source": [
    "import numpy as np\n",
    "from keras.datasets import imdb\n",
    "from keras import models, layers, optimizers, Input\n",
    "import logging\n",
    "logging.getLogger('tensorflow').setLevel(logging.ERROR)"
   ]
  },
  {
   "cell_type": "code",
   "execution_count": 20,
   "metadata": {},
   "outputs": [],
   "source": [
    "(train_data, train_labels), (test_data, test_labels) = imdb.load_data(num_words=10000)"
   ]
  },
  {
   "cell_type": "code",
   "execution_count": 21,
   "metadata": {},
   "outputs": [],
   "source": [
    "word_index = imdb.get_word_index()"
   ]
  },
  {
   "cell_type": "code",
   "execution_count": 22,
   "metadata": {},
   "outputs": [],
   "source": [
    "word_index = dict([(value,key) for (key,value) in word_index.items()])"
   ]
  },
  {
   "cell_type": "code",
   "execution_count": 23,
   "metadata": {},
   "outputs": [
    {
     "name": "stdout",
     "output_type": "stream",
     "text": [
      "None\n",
      "this\n",
      "film\n",
      "was\n",
      "just\n",
      "brilliant\n",
      "casting\n",
      "location\n",
      "scenery\n",
      "story\n",
      "direction\n",
      "everyone's\n",
      "really\n",
      "suited\n",
      "the\n",
      "part\n",
      "they\n",
      "played\n",
      "and\n",
      "you\n",
      "could\n",
      "just\n",
      "imagine\n",
      "being\n",
      "there\n",
      "robert\n",
      "None\n",
      "is\n",
      "an\n",
      "amazing\n",
      "actor\n",
      "and\n",
      "now\n",
      "the\n",
      "same\n",
      "being\n",
      "director\n",
      "None\n",
      "father\n",
      "came\n",
      "from\n",
      "the\n",
      "same\n",
      "scottish\n",
      "island\n",
      "as\n",
      "myself\n",
      "so\n",
      "i\n",
      "loved\n",
      "the\n",
      "fact\n",
      "there\n",
      "was\n",
      "a\n",
      "real\n",
      "connection\n",
      "with\n",
      "this\n",
      "film\n",
      "the\n",
      "witty\n",
      "remarks\n",
      "throughout\n",
      "the\n",
      "film\n",
      "were\n",
      "great\n",
      "it\n",
      "was\n",
      "just\n",
      "brilliant\n",
      "so\n",
      "much\n",
      "that\n",
      "i\n",
      "bought\n",
      "the\n",
      "film\n",
      "as\n",
      "soon\n",
      "as\n",
      "it\n",
      "was\n",
      "released\n",
      "for\n",
      "None\n",
      "and\n",
      "would\n",
      "recommend\n",
      "it\n",
      "to\n",
      "everyone\n",
      "to\n",
      "watch\n",
      "and\n",
      "the\n",
      "fly\n",
      "fishing\n",
      "was\n",
      "amazing\n",
      "really\n",
      "cried\n",
      "at\n",
      "the\n",
      "end\n",
      "it\n",
      "was\n",
      "so\n",
      "sad\n",
      "and\n",
      "you\n",
      "know\n",
      "what\n",
      "they\n",
      "say\n",
      "if\n",
      "you\n",
      "cry\n",
      "at\n",
      "a\n",
      "film\n",
      "it\n",
      "must\n",
      "have\n",
      "been\n",
      "good\n",
      "and\n",
      "this\n",
      "definitely\n",
      "was\n",
      "also\n",
      "None\n",
      "to\n",
      "the\n",
      "two\n",
      "little\n",
      "boy's\n",
      "that\n",
      "played\n",
      "the\n",
      "None\n",
      "of\n",
      "norman\n",
      "and\n",
      "paul\n",
      "they\n",
      "were\n",
      "just\n",
      "brilliant\n",
      "children\n",
      "are\n",
      "often\n",
      "left\n",
      "out\n",
      "of\n",
      "the\n",
      "None\n",
      "list\n",
      "i\n",
      "think\n",
      "because\n",
      "the\n",
      "stars\n",
      "that\n",
      "play\n",
      "them\n",
      "all\n",
      "grown\n",
      "up\n",
      "are\n",
      "such\n",
      "a\n",
      "big\n",
      "profile\n",
      "for\n",
      "the\n",
      "whole\n",
      "film\n",
      "but\n",
      "these\n",
      "children\n",
      "are\n",
      "amazing\n",
      "and\n",
      "should\n",
      "be\n",
      "praised\n",
      "for\n",
      "what\n",
      "they\n",
      "have\n",
      "done\n",
      "don't\n",
      "you\n",
      "think\n",
      "the\n",
      "whole\n",
      "story\n",
      "was\n",
      "so\n",
      "lovely\n",
      "because\n",
      "it\n",
      "was\n",
      "true\n",
      "and\n",
      "was\n",
      "someone's\n",
      "life\n",
      "after\n",
      "all\n",
      "that\n",
      "was\n",
      "shared\n",
      "with\n",
      "us\n",
      "all\n"
     ]
    }
   ],
   "source": [
    "for _ in train_data[0]:\n",
    "    print(word_index.get(_ -3))"
   ]
  },
  {
   "cell_type": "code",
   "execution_count": 24,
   "metadata": {},
   "outputs": [],
   "source": [
    "def vectorizar(sequences, dim = 10000):\n",
    "    results = np.zeros((len(sequences), dim))\n",
    "    for i, sequence in enumerate(sequences):\n",
    "        results[i, sequence] = 1\n",
    "    return results"
   ]
  },
  {
   "cell_type": "code",
   "execution_count": 25,
   "metadata": {},
   "outputs": [],
   "source": [
    "X_train = vectorizar(train_data)\n",
    "x_test = vectorizar(test_data)"
   ]
  },
  {
   "cell_type": "code",
   "execution_count": 26,
   "metadata": {},
   "outputs": [],
   "source": [
    "y_train = np.asarray(train_labels).astype('float32')\n",
    "y_test = np.asarray(test_labels).astype('float32')"
   ]
  },
  {
   "cell_type": "code",
   "execution_count": 27,
   "metadata": {},
   "outputs": [],
   "source": [
    "model = models.Sequential()\n",
    "model.add(Input(shape=(10000,)))  # Usar Input para especificar la forma de entrada\n",
    "model.add(layers.Dense(16, activation='relu'))\n",
    "model.add(layers.Dense(16, activation='relu'))\n",
    "model.add(layers.Dense(1, activation='sigmoid'))"
   ]
  },
  {
   "cell_type": "code",
   "execution_count": 28,
   "metadata": {},
   "outputs": [],
   "source": [
    "model.compile(optimizer='rmsprop', loss='binary_crossentropy', metrics=['accuracy'])"
   ]
  },
  {
   "cell_type": "code",
   "execution_count": 29,
   "metadata": {},
   "outputs": [],
   "source": [
    "X_val = X_train[:10000]\n",
    "partial_X_train = X_train[10000:]\n",
    "\n",
    "y_val = y_train[:10000]\n",
    "partial_y_train = y_train[10000:]"
   ]
  },
  {
   "cell_type": "code",
   "execution_count": 30,
   "metadata": {},
   "outputs": [
    {
     "name": "stdout",
     "output_type": "stream",
     "text": [
      "Num GPUs Available:  1\n"
     ]
    }
   ],
   "source": [
    "import tensorflow as tf\n",
    "print(\"Num GPUs Available: \", len(tf.config.list_physical_devices('GPU')))"
   ]
  },
  {
   "cell_type": "code",
   "execution_count": 31,
   "metadata": {},
   "outputs": [
    {
     "name": "stdout",
     "output_type": "stream",
     "text": [
      "Epoch 1/25\n",
      "\u001b[1m30/30\u001b[0m \u001b[32m━━━━━━━━━━━━━━━━━━━━\u001b[0m\u001b[37m\u001b[0m \u001b[1m2s\u001b[0m 43ms/step - accuracy: 0.6822 - loss: 0.6101 - val_accuracy: 0.8456 - val_loss: 0.4252\n",
      "Epoch 2/25\n",
      "\u001b[1m30/30\u001b[0m \u001b[32m━━━━━━━━━━━━━━━━━━━━\u001b[0m\u001b[37m\u001b[0m \u001b[1m0s\u001b[0m 9ms/step - accuracy: 0.8892 - loss: 0.3548 - val_accuracy: 0.8829 - val_loss: 0.3229\n",
      "Epoch 3/25\n",
      "\u001b[1m30/30\u001b[0m \u001b[32m━━━━━━━━━━━━━━━━━━━━\u001b[0m\u001b[37m\u001b[0m \u001b[1m0s\u001b[0m 9ms/step - accuracy: 0.9159 - loss: 0.2648 - val_accuracy: 0.8862 - val_loss: 0.2906\n",
      "Epoch 4/25\n",
      "\u001b[1m30/30\u001b[0m \u001b[32m━━━━━━━━━━━━━━━━━━━━\u001b[0m\u001b[37m\u001b[0m \u001b[1m0s\u001b[0m 9ms/step - accuracy: 0.9377 - loss: 0.2026 - val_accuracy: 0.8889 - val_loss: 0.2747\n",
      "Epoch 5/25\n",
      "\u001b[1m30/30\u001b[0m \u001b[32m━━━━━━━━━━━━━━━━━━━━\u001b[0m\u001b[37m\u001b[0m \u001b[1m0s\u001b[0m 9ms/step - accuracy: 0.9507 - loss: 0.1666 - val_accuracy: 0.8874 - val_loss: 0.2752\n",
      "Epoch 6/25\n",
      "\u001b[1m30/30\u001b[0m \u001b[32m━━━━━━━━━━━━━━━━━━━━\u001b[0m\u001b[37m\u001b[0m \u001b[1m0s\u001b[0m 9ms/step - accuracy: 0.9565 - loss: 0.1403 - val_accuracy: 0.8837 - val_loss: 0.2833\n",
      "Epoch 7/25\n",
      "\u001b[1m30/30\u001b[0m \u001b[32m━━━━━━━━━━━━━━━━━━━━\u001b[0m\u001b[37m\u001b[0m \u001b[1m0s\u001b[0m 9ms/step - accuracy: 0.9599 - loss: 0.1246 - val_accuracy: 0.8833 - val_loss: 0.2902\n",
      "Epoch 8/25\n",
      "\u001b[1m30/30\u001b[0m \u001b[32m━━━━━━━━━━━━━━━━━━━━\u001b[0m\u001b[37m\u001b[0m \u001b[1m0s\u001b[0m 9ms/step - accuracy: 0.9716 - loss: 0.1030 - val_accuracy: 0.8847 - val_loss: 0.3024\n",
      "Epoch 9/25\n",
      "\u001b[1m30/30\u001b[0m \u001b[32m━━━━━━━━━━━━━━━━━━━━\u001b[0m\u001b[37m\u001b[0m \u001b[1m0s\u001b[0m 9ms/step - accuracy: 0.9765 - loss: 0.0861 - val_accuracy: 0.8815 - val_loss: 0.3287\n",
      "Epoch 10/25\n",
      "\u001b[1m30/30\u001b[0m \u001b[32m━━━━━━━━━━━━━━━━━━━━\u001b[0m\u001b[37m\u001b[0m \u001b[1m0s\u001b[0m 9ms/step - accuracy: 0.9818 - loss: 0.0769 - val_accuracy: 0.8813 - val_loss: 0.3330\n",
      "Epoch 11/25\n",
      "\u001b[1m30/30\u001b[0m \u001b[32m━━━━━━━━━━━━━━━━━━━━\u001b[0m\u001b[37m\u001b[0m \u001b[1m0s\u001b[0m 9ms/step - accuracy: 0.9866 - loss: 0.0602 - val_accuracy: 0.8801 - val_loss: 0.3568\n",
      "Epoch 12/25\n",
      "\u001b[1m30/30\u001b[0m \u001b[32m━━━━━━━━━━━━━━━━━━━━\u001b[0m\u001b[37m\u001b[0m \u001b[1m0s\u001b[0m 9ms/step - accuracy: 0.9887 - loss: 0.0515 - val_accuracy: 0.8757 - val_loss: 0.3717\n",
      "Epoch 13/25\n",
      "\u001b[1m30/30\u001b[0m \u001b[32m━━━━━━━━━━━━━━━━━━━━\u001b[0m\u001b[37m\u001b[0m \u001b[1m0s\u001b[0m 9ms/step - accuracy: 0.9915 - loss: 0.0421 - val_accuracy: 0.8755 - val_loss: 0.3934\n",
      "Epoch 14/25\n",
      "\u001b[1m30/30\u001b[0m \u001b[32m━━━━━━━━━━━━━━━━━━━━\u001b[0m\u001b[37m\u001b[0m \u001b[1m0s\u001b[0m 9ms/step - accuracy: 0.9931 - loss: 0.0356 - val_accuracy: 0.8778 - val_loss: 0.4216\n",
      "Epoch 15/25\n",
      "\u001b[1m30/30\u001b[0m \u001b[32m━━━━━━━━━━━━━━━━━━━━\u001b[0m\u001b[37m\u001b[0m \u001b[1m0s\u001b[0m 9ms/step - accuracy: 0.9964 - loss: 0.0295 - val_accuracy: 0.8750 - val_loss: 0.4373\n",
      "Epoch 16/25\n",
      "\u001b[1m30/30\u001b[0m \u001b[32m━━━━━━━━━━━━━━━━━━━━\u001b[0m\u001b[37m\u001b[0m \u001b[1m0s\u001b[0m 9ms/step - accuracy: 0.9970 - loss: 0.0225 - val_accuracy: 0.8752 - val_loss: 0.4629\n",
      "Epoch 17/25\n",
      "\u001b[1m30/30\u001b[0m \u001b[32m━━━━━━━━━━━━━━━━━━━━\u001b[0m\u001b[37m\u001b[0m \u001b[1m0s\u001b[0m 9ms/step - accuracy: 0.9986 - loss: 0.0183 - val_accuracy: 0.8751 - val_loss: 0.4838\n",
      "Epoch 18/25\n",
      "\u001b[1m30/30\u001b[0m \u001b[32m━━━━━━━━━━━━━━━━━━━━\u001b[0m\u001b[37m\u001b[0m \u001b[1m0s\u001b[0m 9ms/step - accuracy: 0.9990 - loss: 0.0151 - val_accuracy: 0.8756 - val_loss: 0.5040\n",
      "Epoch 19/25\n",
      "\u001b[1m30/30\u001b[0m \u001b[32m━━━━━━━━━━━━━━━━━━━━\u001b[0m\u001b[37m\u001b[0m \u001b[1m0s\u001b[0m 9ms/step - accuracy: 0.9995 - loss: 0.0113 - val_accuracy: 0.8716 - val_loss: 0.5312\n",
      "Epoch 20/25\n",
      "\u001b[1m30/30\u001b[0m \u001b[32m━━━━━━━━━━━━━━━━━━━━\u001b[0m\u001b[37m\u001b[0m \u001b[1m0s\u001b[0m 9ms/step - accuracy: 0.9984 - loss: 0.0114 - val_accuracy: 0.8735 - val_loss: 0.5518\n",
      "Epoch 21/25\n",
      "\u001b[1m30/30\u001b[0m \u001b[32m━━━━━━━━━━━━━━━━━━━━\u001b[0m\u001b[37m\u001b[0m \u001b[1m0s\u001b[0m 9ms/step - accuracy: 0.9994 - loss: 0.0083 - val_accuracy: 0.8748 - val_loss: 0.5749\n",
      "Epoch 22/25\n",
      "\u001b[1m30/30\u001b[0m \u001b[32m━━━━━━━━━━━━━━━━━━━━\u001b[0m\u001b[37m\u001b[0m \u001b[1m0s\u001b[0m 9ms/step - accuracy: 0.9998 - loss: 0.0055 - val_accuracy: 0.8728 - val_loss: 0.6092\n",
      "Epoch 23/25\n",
      "\u001b[1m30/30\u001b[0m \u001b[32m━━━━━━━━━━━━━━━━━━━━\u001b[0m\u001b[37m\u001b[0m \u001b[1m0s\u001b[0m 9ms/step - accuracy: 0.9989 - loss: 0.0069 - val_accuracy: 0.8731 - val_loss: 0.6129\n",
      "Epoch 24/25\n",
      "\u001b[1m30/30\u001b[0m \u001b[32m━━━━━━━━━━━━━━━━━━━━\u001b[0m\u001b[37m\u001b[0m \u001b[1m0s\u001b[0m 9ms/step - accuracy: 1.0000 - loss: 0.0038 - val_accuracy: 0.8721 - val_loss: 0.6321\n",
      "Epoch 25/25\n",
      "\u001b[1m30/30\u001b[0m \u001b[32m━━━━━━━━━━━━━━━━━━━━\u001b[0m\u001b[37m\u001b[0m \u001b[1m0s\u001b[0m 9ms/step - accuracy: 0.9987 - loss: 0.0071 - val_accuracy: 0.8725 - val_loss: 0.6510\n"
     ]
    }
   ],
   "source": [
    "history = model.fit(partial_X_train, partial_y_train, epochs=25, batch_size=512, validation_data=(X_val, y_val))"
   ]
  },
  {
   "cell_type": "code",
   "execution_count": 32,
   "metadata": {},
   "outputs": [
    {
     "data": {
      "image/png": "[encoded data removed]",
      "text/plain": [
       "<Figure size 640x480 with 1 Axes>"
      ]
     },
     "metadata": {},
     "output_type": "display_data"
    }
   ],
   "source": [
    "import matplotlib.pyplot as plt\n",
    "\n",
    "history_dict = history.history\n",
    "loss_values = history_dict['loss']\n",
    "val_loss_values = history_dict['val_loss']\n",
    "\n",
    "epochs = range(1, len(loss_values) + 1)\n",
    "plt.plot(epochs, loss_values, 'bo', label='training')\n",
    "plt.plot(epochs, val_loss_values, '--', label='validation')\n",
    "plt.legend()\n",
    "plt.show()"
   ]
  },
  {
   "cell_type": "markdown",
   "metadata": {},
   "source": [
    "MALDITO OVERFITING!!!!!!"
   ]
  },
  {
   "cell_type": "markdown",
   "metadata": {},
   "source": [
    "# Reduciendo el overfitting"
   ]
  },
  {
   "cell_type": "markdown",
   "metadata": {},
   "source": [
    "## Reducir el modelo"
   ]
  },
  {
   "cell_type": "code",
   "execution_count": 33,
   "metadata": {},
   "outputs": [
    {
     "name": "stdout",
     "output_type": "stream",
     "text": [
      "Epoch 1/25\n",
      "\u001b[1m30/30\u001b[0m \u001b[32m━━━━━━━━━━━━━━━━━━━━\u001b[0m\u001b[37m\u001b[0m \u001b[1m2s\u001b[0m 41ms/step - accuracy: 0.6754 - loss: 0.6235 - val_accuracy: 0.8476 - val_loss: 0.4667\n",
      "Epoch 2/25\n",
      "\u001b[1m30/30\u001b[0m \u001b[32m━━━━━━━━━━━━━━━━━━━━\u001b[0m\u001b[37m\u001b[0m \u001b[1m0s\u001b[0m 9ms/step - accuracy: 0.8848 - loss: 0.4108 - val_accuracy: 0.8728 - val_loss: 0.3711\n",
      "Epoch 3/25\n",
      "\u001b[1m30/30\u001b[0m \u001b[32m━━━━━━━━━━━━━━━━━━━━\u001b[0m\u001b[37m\u001b[0m \u001b[1m0s\u001b[0m 9ms/step - accuracy: 0.9091 - loss: 0.3165 - val_accuracy: 0.8831 - val_loss: 0.3243\n",
      "Epoch 4/25\n",
      "\u001b[1m30/30\u001b[0m \u001b[32m━━━━━━━━━━━━━━━━━━━━\u001b[0m\u001b[37m\u001b[0m \u001b[1m0s\u001b[0m 9ms/step - accuracy: 0.9268 - loss: 0.2558 - val_accuracy: 0.8896 - val_loss: 0.2978\n",
      "Epoch 5/25\n",
      "\u001b[1m30/30\u001b[0m \u001b[32m━━━━━━━━━━━━━━━━━━━━\u001b[0m\u001b[37m\u001b[0m \u001b[1m0s\u001b[0m 9ms/step - accuracy: 0.9418 - loss: 0.2105 - val_accuracy: 0.8897 - val_loss: 0.2838\n",
      "Epoch 6/25\n",
      "\u001b[1m30/30\u001b[0m \u001b[32m━━━━━━━━━━━━━━━━━━━━\u001b[0m\u001b[37m\u001b[0m \u001b[1m0s\u001b[0m 9ms/step - accuracy: 0.9446 - loss: 0.1862 - val_accuracy: 0.8897 - val_loss: 0.2767\n",
      "Epoch 7/25\n",
      "\u001b[1m30/30\u001b[0m \u001b[32m━━━━━━━━━━━━━━━━━━━━\u001b[0m\u001b[37m\u001b[0m \u001b[1m0s\u001b[0m 9ms/step - accuracy: 0.9528 - loss: 0.1649 - val_accuracy: 0.8856 - val_loss: 0.2834\n",
      "Epoch 8/25\n",
      "\u001b[1m30/30\u001b[0m \u001b[32m━━━━━━━━━━━━━━━━━━━━\u001b[0m\u001b[37m\u001b[0m \u001b[1m0s\u001b[0m 9ms/step - accuracy: 0.9553 - loss: 0.1526 - val_accuracy: 0.8901 - val_loss: 0.2766\n",
      "Epoch 9/25\n",
      "\u001b[1m30/30\u001b[0m \u001b[32m━━━━━━━━━━━━━━━━━━━━\u001b[0m\u001b[37m\u001b[0m \u001b[1m0s\u001b[0m 9ms/step - accuracy: 0.9640 - loss: 0.1319 - val_accuracy: 0.8814 - val_loss: 0.2901\n",
      "Epoch 10/25\n",
      "\u001b[1m30/30\u001b[0m \u001b[32m━━━━━━━━━━━━━━━━━━━━\u001b[0m\u001b[37m\u001b[0m \u001b[1m0s\u001b[0m 9ms/step - accuracy: 0.9681 - loss: 0.1202 - val_accuracy: 0.8847 - val_loss: 0.2880\n",
      "Epoch 11/25\n",
      "\u001b[1m30/30\u001b[0m \u001b[32m━━━━━━━━━━━━━━━━━━━━\u001b[0m\u001b[37m\u001b[0m \u001b[1m0s\u001b[0m 9ms/step - accuracy: 0.9733 - loss: 0.1048 - val_accuracy: 0.8853 - val_loss: 0.3010\n",
      "Epoch 12/25\n",
      "\u001b[1m30/30\u001b[0m \u001b[32m━━━━━━━━━━━━━━━━━━━━\u001b[0m\u001b[37m\u001b[0m \u001b[1m0s\u001b[0m 9ms/step - accuracy: 0.9771 - loss: 0.0952 - val_accuracy: 0.8817 - val_loss: 0.3174\n",
      "Epoch 13/25\n",
      "\u001b[1m30/30\u001b[0m \u001b[32m━━━━━━━━━━━━━━━━━━━━\u001b[0m\u001b[37m\u001b[0m \u001b[1m0s\u001b[0m 9ms/step - accuracy: 0.9776 - loss: 0.0898 - val_accuracy: 0.8841 - val_loss: 0.3154\n",
      "Epoch 14/25\n",
      "\u001b[1m30/30\u001b[0m \u001b[32m━━━━━━━━━━━━━━━━━━━━\u001b[0m\u001b[37m\u001b[0m \u001b[1m0s\u001b[0m 9ms/step - accuracy: 0.9805 - loss: 0.0805 - val_accuracy: 0.8854 - val_loss: 0.3198\n",
      "Epoch 15/25\n",
      "\u001b[1m30/30\u001b[0m \u001b[32m━━━━━━━━━━━━━━━━━━━━\u001b[0m\u001b[37m\u001b[0m \u001b[1m0s\u001b[0m 9ms/step - accuracy: 0.9852 - loss: 0.0698 - val_accuracy: 0.8845 - val_loss: 0.3281\n",
      "Epoch 16/25\n",
      "\u001b[1m30/30\u001b[0m \u001b[32m━━━━━━━━━━━━━━━━━━━━\u001b[0m\u001b[37m\u001b[0m \u001b[1m0s\u001b[0m 9ms/step - accuracy: 0.9874 - loss: 0.0637 - val_accuracy: 0.8804 - val_loss: 0.3512\n",
      "Epoch 17/25\n",
      "\u001b[1m30/30\u001b[0m \u001b[32m━━━━━━━━━━━━━━━━━━━━\u001b[0m\u001b[37m\u001b[0m \u001b[1m0s\u001b[0m 9ms/step - accuracy: 0.9887 - loss: 0.0581 - val_accuracy: 0.8795 - val_loss: 0.3506\n",
      "Epoch 18/25\n",
      "\u001b[1m30/30\u001b[0m \u001b[32m━━━━━━━━━━━━━━━━━━━━\u001b[0m\u001b[37m\u001b[0m \u001b[1m0s\u001b[0m 9ms/step - accuracy: 0.9898 - loss: 0.0528 - val_accuracy: 0.8786 - val_loss: 0.3632\n",
      "Epoch 19/25\n",
      "\u001b[1m30/30\u001b[0m \u001b[32m━━━━━━━━━━━━━━━━━━━━\u001b[0m\u001b[37m\u001b[0m \u001b[1m0s\u001b[0m 9ms/step - accuracy: 0.9915 - loss: 0.0487 - val_accuracy: 0.8784 - val_loss: 0.3756\n",
      "Epoch 20/25\n",
      "\u001b[1m30/30\u001b[0m \u001b[32m━━━━━━━━━━━━━━━━━━━━\u001b[0m\u001b[37m\u001b[0m \u001b[1m0s\u001b[0m 9ms/step - accuracy: 0.9929 - loss: 0.0438 - val_accuracy: 0.8778 - val_loss: 0.3886\n",
      "Epoch 21/25\n",
      "\u001b[1m30/30\u001b[0m \u001b[32m━━━━━━━━━━━━━━━━━━━━\u001b[0m\u001b[37m\u001b[0m \u001b[1m0s\u001b[0m 9ms/step - accuracy: 0.9931 - loss: 0.0405 - val_accuracy: 0.8781 - val_loss: 0.4032\n",
      "Epoch 22/25\n",
      "\u001b[1m30/30\u001b[0m \u001b[32m━━━━━━━━━━━━━━━━━━━━\u001b[0m\u001b[37m\u001b[0m \u001b[1m0s\u001b[0m 9ms/step - accuracy: 0.9936 - loss: 0.0377 - val_accuracy: 0.8731 - val_loss: 0.4369\n",
      "Epoch 23/25\n",
      "\u001b[1m30/30\u001b[0m \u001b[32m━━━━━━━━━━━━━━━━━━━━\u001b[0m\u001b[37m\u001b[0m \u001b[1m0s\u001b[0m 9ms/step - accuracy: 0.9956 - loss: 0.0308 - val_accuracy: 0.8731 - val_loss: 0.4329\n",
      "Epoch 24/25\n",
      "\u001b[1m30/30\u001b[0m \u001b[32m━━━━━━━━━━━━━━━━━━━━\u001b[0m\u001b[37m\u001b[0m \u001b[1m0s\u001b[0m 9ms/step - accuracy: 0.9966 - loss: 0.0283 - val_accuracy: 0.8740 - val_loss: 0.4475\n",
      "Epoch 25/25\n",
      "\u001b[1m30/30\u001b[0m \u001b[32m━━━━━━━━━━━━━━━━━━━━\u001b[0m\u001b[37m\u001b[0m \u001b[1m0s\u001b[0m 9ms/step - accuracy: 0.9972 - loss: 0.0260 - val_accuracy: 0.8732 - val_loss: 0.4632\n"
     ]
    },
    {
     "data": {
      "image/png": "[encoded data removed]",
      "text/plain": [
       "<Figure size 640x480 with 1 Axes>"
      ]
     },
     "metadata": {},
     "output_type": "display_data"
    }
   ],
   "source": [
    "model = models.Sequential()\n",
    "model.add(Input(shape=(10000,)))  # Usar Input para especificar la forma de entrada\n",
    "model.add(layers.Dense(4, activation='relu'))\n",
    "model.add(layers.Dense(4, activation='relu'))\n",
    "model.add(layers.Dense(1, activation='sigmoid'))\n",
    "\n",
    "model.compile(optimizer='rmsprop', loss='binary_crossentropy', metrics=['accuracy'])\n",
    "\n",
    "history = model.fit(partial_X_train, partial_y_train, epochs=25, batch_size=512, validation_data=(X_val, y_val))\n",
    "\n",
    "history_dict = history.history\n",
    "loss_values = history_dict['loss']\n",
    "val_loss_values = history_dict['val_loss']\n",
    "\n",
    "epochs = range(1, len(loss_values) + 1)\n",
    "plt.plot(epochs, loss_values, 'bo', label='training')\n",
    "plt.plot(epochs, val_loss_values, '--', label='validation')\n",
    "plt.legend()\n",
    "plt.show()"
   ]
  },
  {
   "cell_type": "markdown",
   "metadata": {},
   "source": [
    "## Regularizacion"
   ]
  },
  {
   "cell_type": "code",
   "execution_count": 34,
   "metadata": {},
   "outputs": [
    {
     "name": "stdout",
     "output_type": "stream",
     "text": [
      "Epoch 1/25\n",
      "\u001b[1m30/30\u001b[0m \u001b[32m━━━━━━━━━━━━━━━━━━━━\u001b[0m\u001b[37m\u001b[0m \u001b[1m2s\u001b[0m 46ms/step - accuracy: 0.6596 - loss: 0.6533 - val_accuracy: 0.8437 - val_loss: 0.4936\n",
      "Epoch 2/25\n",
      "\u001b[1m30/30\u001b[0m \u001b[32m━━━━━━━━━━━━━━━━━━━━\u001b[0m\u001b[37m\u001b[0m \u001b[1m0s\u001b[0m 9ms/step - accuracy: 0.8794 - loss: 0.4412 - val_accuracy: 0.8707 - val_loss: 0.4008\n",
      "Epoch 3/25\n",
      "\u001b[1m30/30\u001b[0m \u001b[32m━━━━━━━━━━━━━━━━━━━━\u001b[0m\u001b[37m\u001b[0m \u001b[1m0s\u001b[0m 9ms/step - accuracy: 0.9086 - loss: 0.3466 - val_accuracy: 0.8812 - val_loss: 0.3553\n",
      "Epoch 4/25\n",
      "\u001b[1m30/30\u001b[0m \u001b[32m━━━━━━━━━━━━━━━━━━━━\u001b[0m\u001b[37m\u001b[0m \u001b[1m0s\u001b[0m 9ms/step - accuracy: 0.9176 - loss: 0.2977 - val_accuracy: 0.8863 - val_loss: 0.3340\n",
      "Epoch 5/25\n",
      "\u001b[1m30/30\u001b[0m \u001b[32m━━━━━━━━━━━━━━━━━━━━\u001b[0m\u001b[37m\u001b[0m \u001b[1m0s\u001b[0m 9ms/step - accuracy: 0.9309 - loss: 0.2641 - val_accuracy: 0.8869 - val_loss: 0.3240\n",
      "Epoch 6/25\n",
      "\u001b[1m30/30\u001b[0m \u001b[32m━━━━━━━━━━━━━━━━━━━━\u001b[0m\u001b[37m\u001b[0m \u001b[1m0s\u001b[0m 9ms/step - accuracy: 0.9352 - loss: 0.2422 - val_accuracy: 0.8887 - val_loss: 0.3229\n",
      "Epoch 7/25\n",
      "\u001b[1m30/30\u001b[0m \u001b[32m━━━━━━━━━━━━━━━━━━━━\u001b[0m\u001b[37m\u001b[0m \u001b[1m0s\u001b[0m 9ms/step - accuracy: 0.9482 - loss: 0.2205 - val_accuracy: 0.8851 - val_loss: 0.3281\n",
      "Epoch 8/25\n",
      "\u001b[1m30/30\u001b[0m \u001b[32m━━━━━━━━━━━━━━━━━━━━\u001b[0m\u001b[37m\u001b[0m \u001b[1m0s\u001b[0m 9ms/step - accuracy: 0.9493 - loss: 0.2125 - val_accuracy: 0.8859 - val_loss: 0.3257\n",
      "Epoch 9/25\n",
      "\u001b[1m30/30\u001b[0m \u001b[32m━━━━━━━━━━━━━━━━━━━━\u001b[0m\u001b[37m\u001b[0m \u001b[1m0s\u001b[0m 9ms/step - accuracy: 0.9534 - loss: 0.2014 - val_accuracy: 0.8858 - val_loss: 0.3288\n",
      "Epoch 10/25\n",
      "\u001b[1m30/30\u001b[0m \u001b[32m━━━━━━━━━━━━━━━━━━━━\u001b[0m\u001b[37m\u001b[0m \u001b[1m0s\u001b[0m 9ms/step - accuracy: 0.9592 - loss: 0.1901 - val_accuracy: 0.8851 - val_loss: 0.3344\n",
      "Epoch 11/25\n",
      "\u001b[1m30/30\u001b[0m \u001b[32m━━━━━━━━━━━━━━━━━━━━\u001b[0m\u001b[37m\u001b[0m \u001b[1m0s\u001b[0m 9ms/step - accuracy: 0.9632 - loss: 0.1840 - val_accuracy: 0.8823 - val_loss: 0.3524\n",
      "Epoch 12/25\n",
      "\u001b[1m30/30\u001b[0m \u001b[32m━━━━━━━━━━━━━━━━━━━━\u001b[0m\u001b[37m\u001b[0m \u001b[1m0s\u001b[0m 9ms/step - accuracy: 0.9632 - loss: 0.1797 - val_accuracy: 0.8724 - val_loss: 0.3714\n",
      "Epoch 13/25\n",
      "\u001b[1m30/30\u001b[0m \u001b[32m━━━━━━━━━━━━━━━━━━━━\u001b[0m\u001b[37m\u001b[0m \u001b[1m0s\u001b[0m 9ms/step - accuracy: 0.9653 - loss: 0.1743 - val_accuracy: 0.8834 - val_loss: 0.3497\n",
      "Epoch 14/25\n",
      "\u001b[1m30/30\u001b[0m \u001b[32m━━━━━━━━━━━━━━━━━━━━\u001b[0m\u001b[37m\u001b[0m \u001b[1m0s\u001b[0m 9ms/step - accuracy: 0.9708 - loss: 0.1657 - val_accuracy: 0.8795 - val_loss: 0.3715\n",
      "Epoch 15/25\n",
      "\u001b[1m30/30\u001b[0m \u001b[32m━━━━━━━━━━━━━━━━━━━━\u001b[0m\u001b[37m\u001b[0m \u001b[1m0s\u001b[0m 9ms/step - accuracy: 0.9709 - loss: 0.1632 - val_accuracy: 0.8788 - val_loss: 0.3629\n",
      "Epoch 16/25\n",
      "\u001b[1m30/30\u001b[0m \u001b[32m━━━━━━━━━━━━━━━━━━━━\u001b[0m\u001b[37m\u001b[0m \u001b[1m0s\u001b[0m 9ms/step - accuracy: 0.9751 - loss: 0.1534 - val_accuracy: 0.8807 - val_loss: 0.3656\n",
      "Epoch 17/25\n",
      "\u001b[1m30/30\u001b[0m \u001b[32m━━━━━━━━━━━━━━━━━━━━\u001b[0m\u001b[37m\u001b[0m \u001b[1m0s\u001b[0m 9ms/step - accuracy: 0.9787 - loss: 0.1494 - val_accuracy: 0.8791 - val_loss: 0.3748\n",
      "Epoch 18/25\n",
      "\u001b[1m30/30\u001b[0m \u001b[32m━━━━━━━━━━━━━━━━━━━━\u001b[0m\u001b[37m\u001b[0m \u001b[1m0s\u001b[0m 9ms/step - accuracy: 0.9784 - loss: 0.1472 - val_accuracy: 0.8726 - val_loss: 0.3918\n",
      "Epoch 19/25\n",
      "\u001b[1m30/30\u001b[0m \u001b[32m━━━━━━━━━━━━━━━━━━━━\u001b[0m\u001b[37m\u001b[0m \u001b[1m0s\u001b[0m 9ms/step - accuracy: 0.9784 - loss: 0.1461 - val_accuracy: 0.8688 - val_loss: 0.4284\n",
      "Epoch 20/25\n",
      "\u001b[1m30/30\u001b[0m \u001b[32m━━━━━━━━━━━━━━━━━━━━\u001b[0m\u001b[37m\u001b[0m \u001b[1m0s\u001b[0m 9ms/step - accuracy: 0.9791 - loss: 0.1453 - val_accuracy: 0.8750 - val_loss: 0.3881\n",
      "Epoch 21/25\n",
      "\u001b[1m30/30\u001b[0m \u001b[32m━━━━━━━━━━━━━━━━━━━━\u001b[0m\u001b[37m\u001b[0m \u001b[1m0s\u001b[0m 9ms/step - accuracy: 0.9836 - loss: 0.1365 - val_accuracy: 0.8746 - val_loss: 0.3973\n",
      "Epoch 22/25\n",
      "\u001b[1m30/30\u001b[0m \u001b[32m━━━━━━━━━━━━━━━━━━━━\u001b[0m\u001b[37m\u001b[0m \u001b[1m0s\u001b[0m 9ms/step - accuracy: 0.9844 - loss: 0.1350 - val_accuracy: 0.8717 - val_loss: 0.4180\n",
      "Epoch 23/25\n",
      "\u001b[1m30/30\u001b[0m \u001b[32m━━━━━━━━━━━━━━━━━━━━\u001b[0m\u001b[37m\u001b[0m \u001b[1m0s\u001b[0m 9ms/step - accuracy: 0.9809 - loss: 0.1354 - val_accuracy: 0.8718 - val_loss: 0.4075\n",
      "Epoch 24/25\n",
      "\u001b[1m30/30\u001b[0m \u001b[32m━━━━━━━━━━━━━━━━━━━━\u001b[0m\u001b[37m\u001b[0m \u001b[1m0s\u001b[0m 9ms/step - accuracy: 0.9846 - loss: 0.1301 - val_accuracy: 0.8741 - val_loss: 0.4118\n",
      "Epoch 25/25\n",
      "\u001b[1m30/30\u001b[0m \u001b[32m━━━━━━━━━━━━━━━━━━━━\u001b[0m\u001b[37m\u001b[0m \u001b[1m0s\u001b[0m 9ms/step - accuracy: 0.9855 - loss: 0.1282 - val_accuracy: 0.8719 - val_loss: 0.4164\n"
     ]
    },
    {
     "data": {
      "image/png": "[encoded data removed]",
      "text/plain": [
       "<Figure size 640x480 with 1 Axes>"
      ]
     },
     "metadata": {},
     "output_type": "display_data"
    }
   ],
   "source": [
    "from keras import models, layers, Input, regularizers\n",
    "\n",
    "model = models.Sequential()\n",
    "model.add(Input(shape=(10000,)))  # Usar Input para especificar la forma de entrada\n",
    "model.add(layers.Dense(8, activation='relu', kernel_regularizer=regularizers.l2(0.001)))\n",
    "model.add(layers.Dense(8, activation='relu', kernel_regularizer=regularizers.l2(0.001)))\n",
    "model.add(layers.Dense(1, activation='sigmoid'))\n",
    "\n",
    "model.compile(optimizer='rmsprop', loss='binary_crossentropy', metrics=['accuracy'])\n",
    "\n",
    "history = model.fit(partial_X_train, partial_y_train, epochs=25, batch_size=512, validation_data=(X_val, y_val))\n",
    "\n",
    "history_dict = history.history\n",
    "loss_values = history_dict['loss']\n",
    "val_loss_values = history_dict['val_loss']\n",
    "\n",
    "epochs = range(1, len(loss_values) + 1)\n",
    "plt.plot(epochs, loss_values, 'bo', label='training')\n",
    "plt.plot(epochs, val_loss_values, '--', label='validation')\n",
    "plt.legend()\n",
    "plt.show()"
   ]
  },
  {
   "cell_type": "markdown",
   "metadata": {},
   "source": [
    "parece bueno pero en realidad tambien es un mojon"
   ]
  },
  {
   "cell_type": "markdown",
   "metadata": {},
   "source": [
    "## Dropout"
   ]
  },
  {
   "cell_type": "code",
   "execution_count": 35,
   "metadata": {},
   "outputs": [
    {
     "name": "stdout",
     "output_type": "stream",
     "text": [
      "Epoch 1/25\n",
      "\u001b[1m30/30\u001b[0m \u001b[32m━━━━━━━━━━━━━━━━━━━━\u001b[0m\u001b[37m\u001b[0m \u001b[1m3s\u001b[0m 52ms/step - accuracy: 0.5695 - loss: 0.6707 - val_accuracy: 0.8400 - val_loss: 0.5183\n",
      "Epoch 2/25\n",
      "\u001b[1m30/30\u001b[0m \u001b[32m━━━━━━━━━━━━━━━━━━━━\u001b[0m\u001b[37m\u001b[0m \u001b[1m0s\u001b[0m 9ms/step - accuracy: 0.7448 - loss: 0.5410 - val_accuracy: 0.8589 - val_loss: 0.4073\n",
      "Epoch 3/25\n",
      "\u001b[1m30/30\u001b[0m \u001b[32m━━━━━━━━━━━━━━━━━━━━\u001b[0m\u001b[37m\u001b[0m \u001b[1m0s\u001b[0m 9ms/step - accuracy: 0.8057 - loss: 0.4476 - val_accuracy: 0.8764 - val_loss: 0.3371\n",
      "Epoch 4/25\n",
      "\u001b[1m30/30\u001b[0m \u001b[32m━━━━━━━━━━━━━━━━━━━━\u001b[0m\u001b[37m\u001b[0m \u001b[1m0s\u001b[0m 9ms/step - accuracy: 0.8517 - loss: 0.3808 - val_accuracy: 0.8732 - val_loss: 0.3148\n",
      "Epoch 5/25\n",
      "\u001b[1m30/30\u001b[0m \u001b[32m━━━━━━━━━━━━━━━━━━━━\u001b[0m\u001b[37m\u001b[0m \u001b[1m0s\u001b[0m 9ms/step - accuracy: 0.8857 - loss: 0.3166 - val_accuracy: 0.8865 - val_loss: 0.2824\n",
      "Epoch 6/25\n",
      "\u001b[1m30/30\u001b[0m \u001b[32m━━━━━━━━━━━━━━━━━━━━\u001b[0m\u001b[37m\u001b[0m \u001b[1m0s\u001b[0m 9ms/step - accuracy: 0.9047 - loss: 0.2785 - val_accuracy: 0.8896 - val_loss: 0.2744\n",
      "Epoch 7/25\n",
      "\u001b[1m30/30\u001b[0m \u001b[32m━━━━━━━━━━━━━━━━━━━━\u001b[0m\u001b[37m\u001b[0m \u001b[1m0s\u001b[0m 9ms/step - accuracy: 0.9203 - loss: 0.2417 - val_accuracy: 0.8903 - val_loss: 0.2756\n",
      "Epoch 8/25\n",
      "\u001b[1m30/30\u001b[0m \u001b[32m━━━━━━━━━━━━━━━━━━━━\u001b[0m\u001b[37m\u001b[0m \u001b[1m0s\u001b[0m 9ms/step - accuracy: 0.9274 - loss: 0.2176 - val_accuracy: 0.8871 - val_loss: 0.2872\n",
      "Epoch 9/25\n",
      "\u001b[1m30/30\u001b[0m \u001b[32m━━━━━━━━━━━━━━━━━━━━\u001b[0m\u001b[37m\u001b[0m \u001b[1m0s\u001b[0m 9ms/step - accuracy: 0.9385 - loss: 0.1906 - val_accuracy: 0.8868 - val_loss: 0.2935\n",
      "Epoch 10/25\n",
      "\u001b[1m30/30\u001b[0m \u001b[32m━━━━━━━━━━━━━━━━━━━━\u001b[0m\u001b[37m\u001b[0m \u001b[1m0s\u001b[0m 9ms/step - accuracy: 0.9494 - loss: 0.1646 - val_accuracy: 0.8866 - val_loss: 0.3084\n",
      "Epoch 11/25\n",
      "\u001b[1m30/30\u001b[0m \u001b[32m━━━━━━━━━━━━━━━━━━━━\u001b[0m\u001b[37m\u001b[0m \u001b[1m0s\u001b[0m 9ms/step - accuracy: 0.9514 - loss: 0.1582 - val_accuracy: 0.8875 - val_loss: 0.3098\n",
      "Epoch 12/25\n",
      "\u001b[1m30/30\u001b[0m \u001b[32m━━━━━━━━━━━━━━━━━━━━\u001b[0m\u001b[37m\u001b[0m \u001b[1m0s\u001b[0m 9ms/step - accuracy: 0.9541 - loss: 0.1385 - val_accuracy: 0.8814 - val_loss: 0.3438\n",
      "Epoch 13/25\n",
      "\u001b[1m30/30\u001b[0m \u001b[32m━━━━━━━━━━━━━━━━━━━━\u001b[0m\u001b[37m\u001b[0m \u001b[1m0s\u001b[0m 9ms/step - accuracy: 0.9598 - loss: 0.1320 - val_accuracy: 0.8813 - val_loss: 0.3762\n",
      "Epoch 14/25\n",
      "\u001b[1m30/30\u001b[0m \u001b[32m━━━━━━━━━━━━━━━━━━━━\u001b[0m\u001b[37m\u001b[0m \u001b[1m0s\u001b[0m 9ms/step - accuracy: 0.9613 - loss: 0.1249 - val_accuracy: 0.8858 - val_loss: 0.3874\n",
      "Epoch 15/25\n",
      "\u001b[1m30/30\u001b[0m \u001b[32m━━━━━━━━━━━━━━━━━━━━\u001b[0m\u001b[37m\u001b[0m \u001b[1m0s\u001b[0m 9ms/step - accuracy: 0.9666 - loss: 0.1044 - val_accuracy: 0.8853 - val_loss: 0.4119\n",
      "Epoch 16/25\n",
      "\u001b[1m30/30\u001b[0m \u001b[32m━━━━━━━━━━━━━━━━━━━━\u001b[0m\u001b[37m\u001b[0m \u001b[1m0s\u001b[0m 9ms/step - accuracy: 0.9674 - loss: 0.1010 - val_accuracy: 0.8844 - val_loss: 0.4241\n",
      "Epoch 17/25\n",
      "\u001b[1m30/30\u001b[0m \u001b[32m━━━━━━━━━━━━━━━━━━━━\u001b[0m\u001b[37m\u001b[0m \u001b[1m0s\u001b[0m 9ms/step - accuracy: 0.9709 - loss: 0.0942 - val_accuracy: 0.8845 - val_loss: 0.4396\n",
      "Epoch 18/25\n",
      "\u001b[1m30/30\u001b[0m \u001b[32m━━━━━━━━━━━━━━━━━━━━\u001b[0m\u001b[37m\u001b[0m \u001b[1m0s\u001b[0m 9ms/step - accuracy: 0.9723 - loss: 0.0866 - val_accuracy: 0.8846 - val_loss: 0.4944\n",
      "Epoch 19/25\n",
      "\u001b[1m30/30\u001b[0m \u001b[32m━━━━━━━━━━━━━━━━━━━━\u001b[0m\u001b[37m\u001b[0m \u001b[1m0s\u001b[0m 9ms/step - accuracy: 0.9724 - loss: 0.0837 - val_accuracy: 0.8841 - val_loss: 0.4905\n",
      "Epoch 20/25\n",
      "\u001b[1m30/30\u001b[0m \u001b[32m━━━━━━━━━━━━━━━━━━━━\u001b[0m\u001b[37m\u001b[0m \u001b[1m0s\u001b[0m 9ms/step - accuracy: 0.9723 - loss: 0.0850 - val_accuracy: 0.8841 - val_loss: 0.5223\n",
      "Epoch 21/25\n",
      "\u001b[1m30/30\u001b[0m \u001b[32m━━━━━━━━━━━━━━━━━━━━\u001b[0m\u001b[37m\u001b[0m \u001b[1m0s\u001b[0m 9ms/step - accuracy: 0.9744 - loss: 0.0803 - val_accuracy: 0.8843 - val_loss: 0.5217\n",
      "Epoch 22/25\n",
      "\u001b[1m30/30\u001b[0m \u001b[32m━━━━━━━━━━━━━━━━━━━━\u001b[0m\u001b[37m\u001b[0m \u001b[1m0s\u001b[0m 9ms/step - accuracy: 0.9777 - loss: 0.0735 - val_accuracy: 0.8828 - val_loss: 0.5695\n",
      "Epoch 23/25\n",
      "\u001b[1m30/30\u001b[0m \u001b[32m━━━━━━━━━━━━━━━━━━━━\u001b[0m\u001b[37m\u001b[0m \u001b[1m0s\u001b[0m 9ms/step - accuracy: 0.9783 - loss: 0.0695 - val_accuracy: 0.8819 - val_loss: 0.5637\n",
      "Epoch 24/25\n",
      "\u001b[1m30/30\u001b[0m \u001b[32m━━━━━━━━━━━━━━━━━━━━\u001b[0m\u001b[37m\u001b[0m \u001b[1m0s\u001b[0m 9ms/step - accuracy: 0.9815 - loss: 0.0670 - val_accuracy: 0.8816 - val_loss: 0.5753\n",
      "Epoch 25/25\n",
      "\u001b[1m30/30\u001b[0m \u001b[32m━━━━━━━━━━━━━━━━━━━━\u001b[0m\u001b[37m\u001b[0m \u001b[1m0s\u001b[0m 9ms/step - accuracy: 0.9777 - loss: 0.0687 - val_accuracy: 0.8800 - val_loss: 0.6301\n"
     ]
    },
    {
     "data": {
      "image/png": "[encoded data removed]",
      "text/plain": [
       "<Figure size 640x480 with 1 Axes>"
      ]
     },
     "metadata": {},
     "output_type": "display_data"
    }
   ],
   "source": [
    "model = models.Sequential()\n",
    "model.add(Input(shape=(10000,)))  # Usar Input para especificar la forma de entrada\n",
    "model.add(layers.Dense(16, activation='relu'))\n",
    "model.add(layers.Dropout(0.5))\n",
    "model.add(layers.Dense(16, activation='relu'))\n",
    "model.add(layers.Dropout(0.5))\n",
    "model.add(layers.Dense(1, activation='sigmoid'))\n",
    "\n",
    "model.compile(optimizer='rmsprop', loss='binary_crossentropy', metrics=['accuracy'])\n",
    "\n",
    "history = model.fit(partial_X_train, partial_y_train, epochs=25, batch_size=512, validation_data=(X_val, y_val))\n",
    "\n",
    "history_dict = history.history\n",
    "loss_values = history_dict['loss']\n",
    "val_loss_values = history_dict['val_loss']\n",
    "\n",
    "epochs = range(1, len(loss_values) + 1)\n",
    "plt.plot(epochs, loss_values, 'bo', label='training')\n",
    "plt.plot(epochs, val_loss_values, '--', label='validation')\n",
    "plt.legend()\n",
    "plt.show()"
   ]
  },
  {
   "cell_type": "markdown",
   "metadata": {},
   "source": [
    "## El mio"
   ]
  },
  {
   "cell_type": "code",
   "execution_count": 36,
   "metadata": {},
   "outputs": [
    {
     "name": "stdout",
     "output_type": "stream",
     "text": [
      "Epoch 1/20\n",
      "\u001b[1m30/30\u001b[0m \u001b[32m━━━━━━━━━━━━━━━━━━━━\u001b[0m\u001b[37m\u001b[0m \u001b[1m3s\u001b[0m 66ms/step - accuracy: 0.5147 - loss: 0.7623 - val_accuracy: 0.7193 - val_loss: 0.6924\n",
      "Epoch 2/20\n",
      "\u001b[1m30/30\u001b[0m \u001b[32m━━━━━━━━━━━━━━━━━━━━\u001b[0m\u001b[37m\u001b[0m \u001b[1m0s\u001b[0m 9ms/step - accuracy: 0.5944 - loss: 0.6899 - val_accuracy: 0.8257 - val_loss: 0.6534\n",
      "Epoch 3/20\n",
      "\u001b[1m30/30\u001b[0m \u001b[32m━━━━━━━━━━━━━━━━━━━━\u001b[0m\u001b[37m\u001b[0m \u001b[1m0s\u001b[0m 9ms/step - accuracy: 0.6300 - loss: 0.6611 - val_accuracy: 0.8493 - val_loss: 0.6353\n",
      "Epoch 4/20\n",
      "\u001b[1m30/30\u001b[0m \u001b[32m━━━━━━━━━━━━━━━━━━━━\u001b[0m\u001b[37m\u001b[0m \u001b[1m0s\u001b[0m 9ms/step - accuracy: 0.6447 - loss: 0.6471 - val_accuracy: 0.8544 - val_loss: 0.6235\n",
      "Epoch 5/20\n",
      "\u001b[1m30/30\u001b[0m \u001b[32m━━━━━━━━━━━━━━━━━━━━\u001b[0m\u001b[37m\u001b[0m \u001b[1m0s\u001b[0m 9ms/step - accuracy: 0.6510 - loss: 0.6387 - val_accuracy: 0.8578 - val_loss: 0.6136\n",
      "Epoch 6/20\n",
      "\u001b[1m30/30\u001b[0m \u001b[32m━━━━━━━━━━━━━━━━━━━━\u001b[0m\u001b[37m\u001b[0m \u001b[1m0s\u001b[0m 9ms/step - accuracy: 0.6608 - loss: 0.6318 - val_accuracy: 0.8565 - val_loss: 0.6049\n",
      "Epoch 7/20\n",
      "\u001b[1m30/30\u001b[0m \u001b[32m━━━━━━━━━━━━━━━━━━━━\u001b[0m\u001b[37m\u001b[0m \u001b[1m0s\u001b[0m 9ms/step - accuracy: 0.6700 - loss: 0.6209 - val_accuracy: 0.8611 - val_loss: 0.5965\n",
      "Epoch 8/20\n",
      "\u001b[1m30/30\u001b[0m \u001b[32m━━━━━━━━━━━━━━━━━━━━\u001b[0m\u001b[37m\u001b[0m \u001b[1m0s\u001b[0m 9ms/step - accuracy: 0.6682 - loss: 0.6176 - val_accuracy: 0.8628 - val_loss: 0.5894\n",
      "Epoch 9/20\n",
      "\u001b[1m30/30\u001b[0m \u001b[32m━━━━━━━━━━━━━━━━━━━━\u001b[0m\u001b[37m\u001b[0m \u001b[1m0s\u001b[0m 9ms/step - accuracy: 0.6619 - loss: 0.6135 - val_accuracy: 0.8636 - val_loss: 0.5825\n",
      "Epoch 10/20\n",
      "\u001b[1m30/30\u001b[0m \u001b[32m━━━━━━━━━━━━━━━━━━━━\u001b[0m\u001b[37m\u001b[0m \u001b[1m0s\u001b[0m 9ms/step - accuracy: 0.6738 - loss: 0.6029 - val_accuracy: 0.8675 - val_loss: 0.5753\n",
      "Epoch 11/20\n",
      "\u001b[1m30/30\u001b[0m \u001b[32m━━━━━━━━━━━━━━━━━━━━\u001b[0m\u001b[37m\u001b[0m \u001b[1m0s\u001b[0m 9ms/step - accuracy: 0.6707 - loss: 0.6016 - val_accuracy: 0.8689 - val_loss: 0.5699\n",
      "Epoch 12/20\n",
      "\u001b[1m30/30\u001b[0m \u001b[32m━━━━━━━━━━━━━━━━━━━━\u001b[0m\u001b[37m\u001b[0m \u001b[1m0s\u001b[0m 9ms/step - accuracy: 0.6744 - loss: 0.5910 - val_accuracy: 0.8677 - val_loss: 0.5641\n",
      "Epoch 13/20\n",
      "\u001b[1m30/30\u001b[0m \u001b[32m━━━━━━━━━━━━━━━━━━━━\u001b[0m\u001b[37m\u001b[0m \u001b[1m0s\u001b[0m 9ms/step - accuracy: 0.6636 - loss: 0.5891 - val_accuracy: 0.8675 - val_loss: 0.5570\n",
      "Epoch 14/20\n",
      "\u001b[1m30/30\u001b[0m \u001b[32m━━━━━━━━━━━━━━━━━━━━\u001b[0m\u001b[37m\u001b[0m \u001b[1m0s\u001b[0m 9ms/step - accuracy: 0.6649 - loss: 0.5808 - val_accuracy: 0.8683 - val_loss: 0.5510\n",
      "Epoch 15/20\n",
      "\u001b[1m30/30\u001b[0m \u001b[32m━━━━━━━━━━━━━━━━━━━━\u001b[0m\u001b[37m\u001b[0m \u001b[1m0s\u001b[0m 9ms/step - accuracy: 0.6662 - loss: 0.5783 - val_accuracy: 0.8692 - val_loss: 0.5454\n",
      "Epoch 16/20\n",
      "\u001b[1m30/30\u001b[0m \u001b[32m━━━━━━━━━━━━━━━━━━━━\u001b[0m\u001b[37m\u001b[0m \u001b[1m0s\u001b[0m 9ms/step - accuracy: 0.6630 - loss: 0.5770 - val_accuracy: 0.8670 - val_loss: 0.5407\n",
      "Epoch 17/20\n",
      "\u001b[1m30/30\u001b[0m \u001b[32m━━━━━━━━━━━━━━━━━━━━\u001b[0m\u001b[37m\u001b[0m \u001b[1m0s\u001b[0m 9ms/step - accuracy: 0.6596 - loss: 0.5722 - val_accuracy: 0.8736 - val_loss: 0.5338\n",
      "Epoch 18/20\n",
      "\u001b[1m30/30\u001b[0m \u001b[32m━━━━━━━━━━━━━━━━━━━━\u001b[0m\u001b[37m\u001b[0m \u001b[1m0s\u001b[0m 9ms/step - accuracy: 0.6689 - loss: 0.5663 - val_accuracy: 0.8706 - val_loss: 0.5285\n",
      "Epoch 19/20\n",
      "\u001b[1m30/30\u001b[0m \u001b[32m━━━━━━━━━━━━━━━━━━━━\u001b[0m\u001b[37m\u001b[0m \u001b[1m0s\u001b[0m 9ms/step - accuracy: 0.6589 - loss: 0.5636 - val_accuracy: 0.8703 - val_loss: 0.5233\n",
      "Epoch 20/20\n",
      "\u001b[1m30/30\u001b[0m \u001b[32m━━━━━━━━━━━━━━━━━━━━\u001b[0m\u001b[37m\u001b[0m \u001b[1m0s\u001b[0m 9ms/step - accuracy: 0.6629 - loss: 0.5591 - val_accuracy: 0.8606 - val_loss: 0.5222\n"
     ]
    },
    {
     "data": {
      "image/png": "[encoded data removed]",
      "text/plain": [
       "<Figure size 640x480 with 1 Axes>"
      ]
     },
     "metadata": {},
     "output_type": "display_data"
    }
   ],
   "source": [
    "model = models.Sequential()\n",
    "model.add(Input(shape=(10000,)))  # Usar Input para especificar la forma de entrada\n",
    "model.add(layers.Dense(6, activation='relu', kernel_regularizer=regularizers.l1(0.0001)))\n",
    "model.add(layers.Dropout(0.35))\n",
    "model.add(layers.Dense(2, activation='sigmoid', kernel_regularizer=regularizers.l1(0.0001)))\n",
    "model.add(layers.Dropout(0.35))\n",
    "model.add(layers.Dense(1, activation='sigmoid'))\n",
    "\n",
    "model.compile(optimizer='rmsprop', loss='binary_crossentropy', metrics=['accuracy'])\n",
    "\n",
    "history = model.fit(partial_X_train, partial_y_train, epochs=20, batch_size=512, validation_data=(X_val, y_val))\n",
    "\n",
    "history_dict = history.history\n",
    "loss_values = history_dict['loss']\n",
    "val_loss_values = history_dict['val_loss']\n",
    "\n",
    "epochs = range(1, len(loss_values) + 1)\n",
    "plt.plot(epochs, loss_values, 'bo', label='training')\n",
    "plt.plot(epochs, val_loss_values, '--', label='validation')\n",
    "plt.legend()\n",
    "plt.show()"
   ]
  }
 ],
 "metadata": {
  "kernelspec": {
   "display_name": "myenv",
   "language": "python",
   "name": "python3"
  },
  "language_info": {
   "codemirror_mode": {
    "name": "ipython",
    "version": 3
   },
   "file_extension": ".py",
   "mimetype": "text/x-python",
   "name": "python",
   "nbconvert_exporter": "python",
   "pygments_lexer": "ipython3",
   "version": "3.12.5"
  }
 },
 "nbformat": 4,
 "nbformat_minor": 2
}
