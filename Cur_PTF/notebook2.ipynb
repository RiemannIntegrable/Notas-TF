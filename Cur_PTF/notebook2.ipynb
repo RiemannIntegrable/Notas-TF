{
 "cells": [
  {
   "cell_type": "code",
   "execution_count": 2,
   "metadata": {},
   "outputs": [
    {
     "name": "stdout",
     "output_type": "stream",
     "text": [
      "TensorFlow detectó las siguientes GPUs:\n",
      "- /physical_device:GPU:0\n",
      "  - Nombre: NVIDIA GeForce RTX 4060 Laptop GPU\n"
     ]
    },
    {
     "name": "stderr",
     "output_type": "stream",
     "text": [
      "2024-11-10 15:22:33.164188: I external/local_xla/xla/stream_executor/cuda/cuda_executor.cc:901] successful NUMA node read from SysFS had negative value (-1), but there must be at least one NUMA node, so returning NUMA node zero. See more at https://github.com/torvalds/linux/blob/v6.0/Documentation/ABI/testing/sysfs-bus-pci#L344-L355\n"
     ]
    }
   ],
   "source": [
    "import tensorflow as tf\n",
    "import logging\n",
    "\n",
    "# Establece el nivel de log de TensorFlow a 'ERROR'\n",
    "tf.get_logger().setLevel('ERROR')\n",
    "\n",
    "# Si utilizas XLA, puedes ajustar el nivel de log de XLA también\n",
    "tf.debugging.set_log_device_placement(False)\n",
    "\n",
    "def check_gpu():\n",
    "    # Verifica si TensorFlow puede detectar GPUs\n",
    "    gpus = tf.config.list_physical_devices('GPU')\n",
    "    if gpus:\n",
    "        print(\"TensorFlow detectó las siguientes GPUs:\")\n",
    "        for gpu in gpus:\n",
    "            print(f\"- {gpu.name}\")\n",
    "            # Obtiene información adicional sobre la GPU\n",
    "            details = tf.config.experimental.get_device_details(gpu)\n",
    "            print(f\"  - Nombre: {details.get('device_name', 'Desconocido')}\")\n",
    "    else:\n",
    "        print(\"No se detectaron GPUs. Verifica la configuración de CUDA y cuDNN.\")\n",
    "\n",
    "if __name__ == \"__main__\":\n",
    "    check_gpu()\n"
   ]
  }
 ],
 "metadata": {
  "kernelspec": {
   "display_name": "tfenv2",
   "language": "python",
   "name": "python3"
  },
  "language_info": {
   "codemirror_mode": {
    "name": "ipython",
    "version": 3
   },
   "file_extension": ".py",
   "mimetype": "text/x-python",
   "name": "python",
   "nbconvert_exporter": "python",
   "pygments_lexer": "ipython3",
   "version": "3.11.9"
  }
 },
 "nbformat": 4,
 "nbformat_minor": 2
}
