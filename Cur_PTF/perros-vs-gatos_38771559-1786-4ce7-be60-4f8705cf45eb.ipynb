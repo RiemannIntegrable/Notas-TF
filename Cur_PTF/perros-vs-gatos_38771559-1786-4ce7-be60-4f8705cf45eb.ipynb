{
 "cells": [
  {
   "cell_type": "markdown",
   "metadata": {},
   "source": [
    "## Importando librerías"
   ]
  },
  {
   "cell_type": "code",
   "execution_count": 1,
   "metadata": {
    "_cell_guid": "b1076dfc-b9ad-4769-8c92-a6c4dae69d19",
    "_uuid": "8f2839f25d086af736a60e9eeb907d3b93b6e0e5",
    "execution": {
     "iopub.execute_input": "2021-11-11T22:29:22.282474Z",
     "iopub.status.busy": "2021-11-11T22:29:22.281943Z",
     "iopub.status.idle": "2021-11-11T22:29:28.008393Z",
     "shell.execute_reply": "2021-11-11T22:29:28.007382Z",
     "shell.execute_reply.started": "2021-11-11T22:29:22.282370Z"
    },
    "trusted": true
   },
   "outputs": [
    {
     "name": "stderr",
     "output_type": "stream",
     "text": [
      "2024-11-10 15:22:41.778254: E external/local_xla/xla/stream_executor/cuda/cuda_dnn.cc:9261] Unable to register cuDNN factory: Attempting to register factory for plugin cuDNN when one has already been registered\n",
      "2024-11-10 15:22:41.778284: E external/local_xla/xla/stream_executor/cuda/cuda_fft.cc:607] Unable to register cuFFT factory: Attempting to register factory for plugin cuFFT when one has already been registered\n",
      "2024-11-10 15:22:41.778887: E external/local_xla/xla/stream_executor/cuda/cuda_blas.cc:1515] Unable to register cuBLAS factory: Attempting to register factory for plugin cuBLAS when one has already been registered\n",
      "2024-11-10 15:22:41.782789: I tensorflow/core/platform/cpu_feature_guard.cc:182] This TensorFlow binary is optimized to use available CPU instructions in performance-critical operations.\n",
      "To enable the following instructions: SSE4.1 SSE4.2 AVX AVX2 FMA, in other operations, rebuild TensorFlow with the appropriate compiler flags.\n"
     ]
    }
   ],
   "source": [
    "import tensorflow\n",
    "from tensorflow.keras.layers import Conv2D, MaxPooling2D, Dropout, Flatten, Dense\n",
    "from tensorflow.keras.preprocessing.image import ImageDataGenerator\n",
    "from tensorflow.keras.callbacks import ModelCheckpoint, EarlyStopping\n",
    "from  tensorflow.keras import models, optimizers, regularizers"
   ]
  },
  {
   "cell_type": "markdown",
   "metadata": {},
   "source": [
    "## Creación del modelo convolucional"
   ]
  },
  {
   "cell_type": "code",
   "execution_count": 2,
   "metadata": {
    "execution": {
     "iopub.execute_input": "2021-11-11T22:29:41.468212Z",
     "iopub.status.busy": "2021-11-11T22:29:41.467894Z",
     "iopub.status.idle": "2021-11-11T22:29:44.303480Z",
     "shell.execute_reply": "2021-11-11T22:29:44.302336Z",
     "shell.execute_reply.started": "2021-11-11T22:29:41.468178Z"
    },
    "trusted": true
   },
   "outputs": [
    {
     "name": "stdout",
     "output_type": "stream",
     "text": [
      "Model: \"sequential\"\n",
      "_________________________________________________________________\n",
      " Layer (type)                Output Shape              Param #   \n",
      "=================================================================\n",
      " conv2d (Conv2D)             (None, 148, 148, 32)      896       \n",
      "                                                                 \n",
      " max_pooling2d (MaxPooling2  (None, 74, 74, 32)        0         \n",
      " D)                                                              \n",
      "                                                                 \n",
      " conv2d_1 (Conv2D)           (None, 72, 72, 64)        18496     \n",
      "                                                                 \n",
      " max_pooling2d_1 (MaxPoolin  (None, 36, 36, 64)        0         \n",
      " g2D)                                                            \n",
      "                                                                 \n",
      " conv2d_2 (Conv2D)           (None, 34, 34, 128)       73856     \n",
      "                                                                 \n",
      " max_pooling2d_2 (MaxPoolin  (None, 17, 17, 128)       0         \n",
      " g2D)                                                            \n",
      "                                                                 \n",
      " conv2d_3 (Conv2D)           (None, 15, 15, 128)       147584    \n",
      "                                                                 \n",
      " max_pooling2d_3 (MaxPoolin  (None, 7, 7, 128)         0         \n",
      " g2D)                                                            \n",
      "                                                                 \n",
      " flatten (Flatten)           (None, 6272)              0         \n",
      "                                                                 \n",
      " dropout (Dropout)           (None, 6272)              0         \n",
      "                                                                 \n",
      " dense (Dense)               (None, 512)               3211776   \n",
      "                                                                 \n",
      " dense_1 (Dense)             (None, 1)                 513       \n",
      "                                                                 \n",
      "=================================================================\n",
      "Total params: 3453121 (13.17 MB)\n",
      "Trainable params: 3453121 (13.17 MB)\n",
      "Non-trainable params: 0 (0.00 Byte)\n",
      "_________________________________________________________________\n"
     ]
    },
    {
     "name": "stderr",
     "output_type": "stream",
     "text": [
      "2024-11-10 15:22:43.180507: I external/local_xla/xla/stream_executor/cuda/cuda_executor.cc:901] successful NUMA node read from SysFS had negative value (-1), but there must be at least one NUMA node, so returning NUMA node zero. See more at https://github.com/torvalds/linux/blob/v6.0/Documentation/ABI/testing/sysfs-bus-pci#L344-L355\n",
      "2024-11-10 15:22:43.207584: I external/local_xla/xla/stream_executor/cuda/cuda_executor.cc:901] successful NUMA node read from SysFS had negative value (-1), but there must be at least one NUMA node, so returning NUMA node zero. See more at https://github.com/torvalds/linux/blob/v6.0/Documentation/ABI/testing/sysfs-bus-pci#L344-L355\n",
      "2024-11-10 15:22:43.212288: I external/local_xla/xla/stream_executor/cuda/cuda_executor.cc:901] successful NUMA node read from SysFS had negative value (-1), but there must be at least one NUMA node, so returning NUMA node zero. See more at https://github.com/torvalds/linux/blob/v6.0/Documentation/ABI/testing/sysfs-bus-pci#L344-L355\n",
      "2024-11-10 15:22:43.216565: I external/local_xla/xla/stream_executor/cuda/cuda_executor.cc:901] successful NUMA node read from SysFS had negative value (-1), but there must be at least one NUMA node, so returning NUMA node zero. See more at https://github.com/torvalds/linux/blob/v6.0/Documentation/ABI/testing/sysfs-bus-pci#L344-L355\n",
      "2024-11-10 15:22:43.219673: I external/local_xla/xla/stream_executor/cuda/cuda_executor.cc:901] successful NUMA node read from SysFS had negative value (-1), but there must be at least one NUMA node, so returning NUMA node zero. See more at https://github.com/torvalds/linux/blob/v6.0/Documentation/ABI/testing/sysfs-bus-pci#L344-L355\n",
      "2024-11-10 15:22:43.223018: I external/local_xla/xla/stream_executor/cuda/cuda_executor.cc:901] successful NUMA node read from SysFS had negative value (-1), but there must be at least one NUMA node, so returning NUMA node zero. See more at https://github.com/torvalds/linux/blob/v6.0/Documentation/ABI/testing/sysfs-bus-pci#L344-L355\n",
      "2024-11-10 15:22:43.349393: I external/local_xla/xla/stream_executor/cuda/cuda_executor.cc:901] successful NUMA node read from SysFS had negative value (-1), but there must be at least one NUMA node, so returning NUMA node zero. See more at https://github.com/torvalds/linux/blob/v6.0/Documentation/ABI/testing/sysfs-bus-pci#L344-L355\n",
      "2024-11-10 15:22:43.350772: I external/local_xla/xla/stream_executor/cuda/cuda_executor.cc:901] successful NUMA node read from SysFS had negative value (-1), but there must be at least one NUMA node, so returning NUMA node zero. See more at https://github.com/torvalds/linux/blob/v6.0/Documentation/ABI/testing/sysfs-bus-pci#L344-L355\n",
      "2024-11-10 15:22:43.351990: I external/local_xla/xla/stream_executor/cuda/cuda_executor.cc:901] successful NUMA node read from SysFS had negative value (-1), but there must be at least one NUMA node, so returning NUMA node zero. See more at https://github.com/torvalds/linux/blob/v6.0/Documentation/ABI/testing/sysfs-bus-pci#L344-L355\n",
      "2024-11-10 15:22:43.353237: I tensorflow/core/common_runtime/gpu/gpu_device.cc:1929] Created device /job:localhost/replica:0/task:0/device:GPU:0 with 55 MB memory:  -> device: 0, name: NVIDIA GeForce RTX 4060 Laptop GPU, pci bus id: 0000:01:00.0, compute capability: 8.9\n"
     ]
    }
   ],
   "source": [
    "model = models.Sequential()\n",
    "\n",
    "model.add(Conv2D(32, (3,3), activation= 'relu', input_shape=(150,150,3)))\n",
    "model.add(MaxPooling2D((2,2)))\n",
    "\n",
    "model.add(Conv2D(64, (3,3), activation = 'relu'))\n",
    "model.add(MaxPooling2D((2,2)))\n",
    "\n",
    "model.add(Conv2D(128, (3,3), activation = 'relu'))\n",
    "model.add(MaxPooling2D((2,2)))\n",
    "\n",
    "model.add(Conv2D(128, (3,3), activation = 'relu'))\n",
    "model.add(MaxPooling2D((2,2)))\n",
    "\n",
    "model.add(Flatten())\n",
    "model.add(Dropout(0.5))\n",
    "model.add(Dense(512, activation='relu'))\n",
    "model.add(Dense(1, activation='sigmoid'))\n",
    "\n",
    "model.summary()\n",
    "\n",
    "\n"
   ]
  },
  {
   "cell_type": "markdown",
   "metadata": {},
   "source": [
    "## Data augmentation"
   ]
  },
  {
   "cell_type": "code",
   "execution_count": 3,
   "metadata": {
    "execution": {
     "iopub.execute_input": "2021-11-11T22:30:14.782854Z",
     "iopub.status.busy": "2021-11-11T22:30:14.782499Z",
     "iopub.status.idle": "2021-11-11T22:30:14.788306Z",
     "shell.execute_reply": "2021-11-11T22:30:14.787221Z",
     "shell.execute_reply.started": "2021-11-11T22:30:14.782819Z"
    },
    "trusted": true
   },
   "outputs": [],
   "source": [
    "train_datagen = ImageDataGenerator(\n",
    "    rescale=1./255,\n",
    "    rotation_range=40,\n",
    "    width_shift_range=0.2,\n",
    "    height_shift_range=0.2,\n",
    "    shear_range=0.2,\n",
    "    zoom_range=0.2,\n",
    "    horizontal_flip=True\n",
    "    )"
   ]
  },
  {
   "cell_type": "markdown",
   "metadata": {},
   "source": [
    "## Reescalar los datos"
   ]
  },
  {
   "cell_type": "code",
   "execution_count": 4,
   "metadata": {
    "execution": {
     "iopub.execute_input": "2021-11-11T22:30:56.383684Z",
     "iopub.status.busy": "2021-11-11T22:30:56.383361Z",
     "iopub.status.idle": "2021-11-11T22:30:56.389332Z",
     "shell.execute_reply": "2021-11-11T22:30:56.388020Z",
     "shell.execute_reply.started": "2021-11-11T22:30:56.383650Z"
    },
    "trusted": true
   },
   "outputs": [],
   "source": [
    "test_datagen = ImageDataGenerator(rescale=1./255)"
   ]
  },
  {
   "cell_type": "code",
   "execution_count": 5,
   "metadata": {
    "execution": {
     "iopub.execute_input": "2021-11-11T22:31:02.080354Z",
     "iopub.status.busy": "2021-11-11T22:31:02.079780Z",
     "iopub.status.idle": "2021-11-11T22:31:02.631971Z",
     "shell.execute_reply": "2021-11-11T22:31:02.630988Z",
     "shell.execute_reply.started": "2021-11-11T22:31:02.080296Z"
    },
    "trusted": true
   },
   "outputs": [
    {
     "name": "stdout",
     "output_type": "stream",
     "text": [
      "Found 2000 images belonging to 2 classes.\n",
      "Found 1000 images belonging to 2 classes.\n"
     ]
    }
   ],
   "source": [
    "train_generator = train_datagen.flow_from_directory('./cats_and_dogs/train',\n",
    "                                 target_size=(150,150),\n",
    "                                 batch_size=32,\n",
    "                                 class_mode='binary'\n",
    "                                 )\n",
    "\n",
    "validation_generator = test_datagen.flow_from_directory('./cats_and_dogs/validation',\n",
    "                                 target_size=(150,150),\n",
    "                                 batch_size=32,\n",
    "                                 class_mode='binary'\n",
    "                                 )"
   ]
  },
  {
   "cell_type": "markdown",
   "metadata": {},
   "source": [
    "## Callbacks"
   ]
  },
  {
   "cell_type": "code",
   "execution_count": 6,
   "metadata": {
    "execution": {
     "iopub.execute_input": "2021-11-11T22:31:08.212146Z",
     "iopub.status.busy": "2021-11-11T22:31:08.211835Z",
     "iopub.status.idle": "2021-11-11T22:31:08.217179Z",
     "shell.execute_reply": "2021-11-11T22:31:08.216073Z",
     "shell.execute_reply.started": "2021-11-11T22:31:08.212113Z"
    },
    "trusted": true
   },
   "outputs": [],
   "source": [
    "checkpoint = ModelCheckpoint('modelo_perros_gatos.keras',monitor='val_accuracy', verbose= 1, save_best_only=True)"
   ]
  },
  {
   "cell_type": "markdown",
   "metadata": {},
   "source": [
    "## Compilando el modelo"
   ]
  },
  {
   "cell_type": "code",
   "execution_count": 7,
   "metadata": {
    "execution": {
     "iopub.execute_input": "2021-11-11T22:31:12.969635Z",
     "iopub.status.busy": "2021-11-11T22:31:12.968799Z",
     "iopub.status.idle": "2021-11-11T22:31:12.987415Z",
     "shell.execute_reply": "2021-11-11T22:31:12.986279Z",
     "shell.execute_reply.started": "2021-11-11T22:31:12.969558Z"
    },
    "trusted": true
   },
   "outputs": [],
   "source": [
    "model.compile(loss='binary_crossentropy', optimizer =optimizers.Adam(),\n",
    "             metrics=['accuracy'])"
   ]
  },
  {
   "cell_type": "markdown",
   "metadata": {},
   "source": [
    "## Entrenando el modelo"
   ]
  },
  {
   "cell_type": "code",
   "execution_count": 9,
   "metadata": {
    "execution": {
     "iopub.execute_input": "2021-11-11T22:31:15.441069Z",
     "iopub.status.busy": "2021-11-11T22:31:15.439842Z",
     "iopub.status.idle": "2021-11-11T23:16:08.917262Z",
     "shell.execute_reply": "2021-11-11T23:16:08.916061Z",
     "shell.execute_reply.started": "2021-11-11T22:31:15.441015Z"
    },
    "trusted": true
   },
   "outputs": [
    {
     "name": "stdout",
     "output_type": "stream",
     "text": [
      "Epoch 1/100\n"
     ]
    },
    {
     "name": "stderr",
     "output_type": "stream",
     "text": [
      "2024-11-10 15:23:07.614604: W external/local_tsl/tsl/framework/bfc_allocator.cc:485] Allocator (GPU_0_bfc) ran out of memory trying to allocate 42.78MiB (rounded to 44859392)requested by op sequential/conv2d/Relu\n",
      "If the cause is memory fragmentation maybe the environment variable 'TF_GPU_ALLOCATOR=cuda_malloc_async' will improve the situation. \n",
      "Current allocation summary follows.\n",
      "Current allocation summary follows.\n",
      "2024-11-10 15:23:07.614648: I external/local_tsl/tsl/framework/bfc_allocator.cc:1039] BFCAllocator dump for GPU_0_bfc\n",
      "2024-11-10 15:23:07.614657: I external/local_tsl/tsl/framework/bfc_allocator.cc:1046] Bin (256): \tTotal Chunks: 43, Chunks in use: 42. 10.8KiB allocated for chunks. 10.5KiB in use in bin. 1.3KiB client-requested in use in bin.\n",
      "2024-11-10 15:23:07.614662: I external/local_tsl/tsl/framework/bfc_allocator.cc:1046] Bin (512): \tTotal Chunks: 6, Chunks in use: 6. 3.0KiB allocated for chunks. 3.0KiB in use in bin. 3.0KiB client-requested in use in bin.\n",
      "2024-11-10 15:23:07.614667: I external/local_tsl/tsl/framework/bfc_allocator.cc:1046] Bin (1024): \tTotal Chunks: 1, Chunks in use: 1. 1.2KiB allocated for chunks. 1.2KiB in use in bin. 1.0KiB client-requested in use in bin.\n",
      "2024-11-10 15:23:07.614673: I external/local_tsl/tsl/framework/bfc_allocator.cc:1046] Bin (2048): \tTotal Chunks: 9, Chunks in use: 9. 22.8KiB allocated for chunks. 22.8KiB in use in bin. 22.1KiB client-requested in use in bin.\n",
      "2024-11-10 15:23:07.614678: I external/local_tsl/tsl/framework/bfc_allocator.cc:1046] Bin (4096): \tTotal Chunks: 0, Chunks in use: 0. 0B allocated for chunks. 0B in use in bin. 0B client-requested in use in bin.\n",
      "2024-11-10 15:23:07.614682: I external/local_tsl/tsl/framework/bfc_allocator.cc:1046] Bin (8192): \tTotal Chunks: 0, Chunks in use: 0. 0B allocated for chunks. 0B in use in bin. 0B client-requested in use in bin.\n",
      "2024-11-10 15:23:07.614686: I external/local_tsl/tsl/framework/bfc_allocator.cc:1046] Bin (16384): \tTotal Chunks: 0, Chunks in use: 0. 0B allocated for chunks. 0B in use in bin. 0B client-requested in use in bin.\n",
      "2024-11-10 15:23:07.614691: I external/local_tsl/tsl/framework/bfc_allocator.cc:1046] Bin (32768): \tTotal Chunks: 0, Chunks in use: 0. 0B allocated for chunks. 0B in use in bin. 0B client-requested in use in bin.\n",
      "2024-11-10 15:23:07.614696: I external/local_tsl/tsl/framework/bfc_allocator.cc:1046] Bin (65536): \tTotal Chunks: 2, Chunks in use: 2. 144.0KiB allocated for chunks. 144.0KiB in use in bin. 144.0KiB client-requested in use in bin.\n",
      "2024-11-10 15:23:07.614701: I external/local_tsl/tsl/framework/bfc_allocator.cc:1046] Bin (131072): \tTotal Chunks: 1, Chunks in use: 1. 134.0KiB allocated for chunks. 134.0KiB in use in bin. 72.0KiB client-requested in use in bin.\n",
      "2024-11-10 15:23:07.614705: I external/local_tsl/tsl/framework/bfc_allocator.cc:1046] Bin (262144): \tTotal Chunks: 4, Chunks in use: 3. 1.32MiB allocated for chunks. 1.05MiB in use in bin. 864.0KiB client-requested in use in bin.\n",
      "2024-11-10 15:23:07.614710: I external/local_tsl/tsl/framework/bfc_allocator.cc:1046] Bin (524288): \tTotal Chunks: 3, Chunks in use: 3. 1.69MiB allocated for chunks. 1.69MiB in use in bin. 1.69MiB client-requested in use in bin.\n",
      "2024-11-10 15:23:07.614714: I external/local_tsl/tsl/framework/bfc_allocator.cc:1046] Bin (1048576): \tTotal Chunks: 0, Chunks in use: 0. 0B allocated for chunks. 0B in use in bin. 0B client-requested in use in bin.\n",
      "2024-11-10 15:23:07.614718: I external/local_tsl/tsl/framework/bfc_allocator.cc:1046] Bin (2097152): \tTotal Chunks: 0, Chunks in use: 0. 0B allocated for chunks. 0B in use in bin. 0B client-requested in use in bin.\n",
      "2024-11-10 15:23:07.614734: I external/local_tsl/tsl/framework/bfc_allocator.cc:1046] Bin (4194304): \tTotal Chunks: 1, Chunks in use: 0. 4.12MiB allocated for chunks. 0B in use in bin. 0B client-requested in use in bin.\n",
      "2024-11-10 15:23:07.614738: I external/local_tsl/tsl/framework/bfc_allocator.cc:1046] Bin (8388608): \tTotal Chunks: 4, Chunks in use: 4. 48.31MiB allocated for chunks. 48.31MiB in use in bin. 40.87MiB client-requested in use in bin.\n",
      "2024-11-10 15:23:07.614743: I external/local_tsl/tsl/framework/bfc_allocator.cc:1046] Bin (16777216): \tTotal Chunks: 0, Chunks in use: 0. 0B allocated for chunks. 0B in use in bin. 0B client-requested in use in bin.\n",
      "2024-11-10 15:23:07.614747: I external/local_tsl/tsl/framework/bfc_allocator.cc:1046] Bin (33554432): \tTotal Chunks: 0, Chunks in use: 0. 0B allocated for chunks. 0B in use in bin. 0B client-requested in use in bin.\n",
      "2024-11-10 15:23:07.614751: I external/local_tsl/tsl/framework/bfc_allocator.cc:1046] Bin (67108864): \tTotal Chunks: 0, Chunks in use: 0. 0B allocated for chunks. 0B in use in bin. 0B client-requested in use in bin.\n",
      "2024-11-10 15:23:07.614755: I external/local_tsl/tsl/framework/bfc_allocator.cc:1046] Bin (134217728): \tTotal Chunks: 0, Chunks in use: 0. 0B allocated for chunks. 0B in use in bin. 0B client-requested in use in bin.\n",
      "2024-11-10 15:23:07.614759: I external/local_tsl/tsl/framework/bfc_allocator.cc:1046] Bin (268435456): \tTotal Chunks: 0, Chunks in use: 0. 0B allocated for chunks. 0B in use in bin. 0B client-requested in use in bin.\n",
      "2024-11-10 15:23:07.614764: I external/local_tsl/tsl/framework/bfc_allocator.cc:1062] Bin for 42.78MiB was 32.00MiB, Chunk State: \n",
      "2024-11-10 15:23:07.614769: I external/local_tsl/tsl/framework/bfc_allocator.cc:1075] Next region of size 58458112\n",
      "2024-11-10 15:23:07.614774: I external/local_tsl/tsl/framework/bfc_allocator.cc:1095] InUse at 737c2a000000 of size 256 next 1\n",
      "2024-11-10 15:23:07.614778: I external/local_tsl/tsl/framework/bfc_allocator.cc:1095] InUse at 737c2a000100 of size 1280 next 2\n",
      "2024-11-10 15:23:07.614781: I external/local_tsl/tsl/framework/bfc_allocator.cc:1095] InUse at 737c2a000600 of size 256 next 3\n",
      "2024-11-10 15:23:07.614784: I external/local_tsl/tsl/framework/bfc_allocator.cc:1095] InUse at 737c2a000700 of size 256 next 4\n",
      "2024-11-10 15:23:07.614787: I external/local_tsl/tsl/framework/bfc_allocator.cc:1095] InUse at 737c2a000800 of size 256 next 6\n",
      "2024-11-10 15:23:07.614790: I external/local_tsl/tsl/framework/bfc_allocator.cc:1095] InUse at 737c2a000900 of size 256 next 7\n",
      "2024-11-10 15:23:07.614794: I external/local_tsl/tsl/framework/bfc_allocator.cc:1095] InUse at 737c2a000a00 of size 256 next 5\n",
      "2024-11-10 15:23:07.614797: I external/local_tsl/tsl/framework/bfc_allocator.cc:1095] InUse at 737c2a000b00 of size 256 next 8\n",
      "2024-11-10 15:23:07.614800: I external/local_tsl/tsl/framework/bfc_allocator.cc:1095] InUse at 737c2a000c00 of size 256 next 13\n",
      "2024-11-10 15:23:07.614803: I external/local_tsl/tsl/framework/bfc_allocator.cc:1095] InUse at 737c2a000d00 of size 256 next 11\n",
      "2024-11-10 15:23:07.614807: I external/local_tsl/tsl/framework/bfc_allocator.cc:1095] InUse at 737c2a000e00 of size 256 next 12\n",
      "2024-11-10 15:23:07.614810: I external/local_tsl/tsl/framework/bfc_allocator.cc:1095] InUse at 737c2a000f00 of size 512 next 18\n",
      "2024-11-10 15:23:07.614814: I external/local_tsl/tsl/framework/bfc_allocator.cc:1095] InUse at 737c2a001100 of size 256 next 16\n",
      "2024-11-10 15:23:07.614817: I external/local_tsl/tsl/framework/bfc_allocator.cc:1095] InUse at 737c2a001200 of size 256 next 17\n",
      "2024-11-10 15:23:07.614820: I external/local_tsl/tsl/framework/bfc_allocator.cc:1095] InUse at 737c2a001300 of size 512 next 21\n",
      "2024-11-10 15:23:07.614823: I external/local_tsl/tsl/framework/bfc_allocator.cc:1095] InUse at 737c2a001500 of size 256 next 22\n",
      "2024-11-10 15:23:07.614827: I external/local_tsl/tsl/framework/bfc_allocator.cc:1095] InUse at 737c2a001600 of size 256 next 25\n",
      "2024-11-10 15:23:07.614830: I external/local_tsl/tsl/framework/bfc_allocator.cc:1095] InUse at 737c2a001700 of size 2048 next 28\n",
      "2024-11-10 15:23:07.614834: I external/local_tsl/tsl/framework/bfc_allocator.cc:1095] InUse at 737c2a001f00 of size 256 next 26\n",
      "2024-11-10 15:23:07.614837: I external/local_tsl/tsl/framework/bfc_allocator.cc:1095] InUse at 737c2a002000 of size 256 next 27\n",
      "2024-11-10 15:23:07.614840: I external/local_tsl/tsl/framework/bfc_allocator.cc:1095] InUse at 737c2a002100 of size 256 next 33\n",
      "2024-11-10 15:23:07.614843: I external/local_tsl/tsl/framework/bfc_allocator.cc:1095] InUse at 737c2a002200 of size 256 next 31\n",
      "2024-11-10 15:23:07.614846: I external/local_tsl/tsl/framework/bfc_allocator.cc:1095] InUse at 737c2a002300 of size 256 next 32\n",
      "2024-11-10 15:23:07.614850: I external/local_tsl/tsl/framework/bfc_allocator.cc:1095] InUse at 737c2a002400 of size 256 next 36\n",
      "2024-11-10 15:23:07.614853: I external/local_tsl/tsl/framework/bfc_allocator.cc:1095] InUse at 737c2a002500 of size 256 next 37\n",
      "2024-11-10 15:23:07.614856: I external/local_tsl/tsl/framework/bfc_allocator.cc:1095] InUse at 737c2a002600 of size 256 next 9\n",
      "2024-11-10 15:23:07.614859: I external/local_tsl/tsl/framework/bfc_allocator.cc:1095] InUse at 737c2a002700 of size 3584 next 10\n",
      "2024-11-10 15:23:07.614863: I external/local_tsl/tsl/framework/bfc_allocator.cc:1095] InUse at 737c2a003500 of size 256 next 39\n",
      "2024-11-10 15:23:07.614866: I external/local_tsl/tsl/framework/bfc_allocator.cc:1095] InUse at 737c2a003600 of size 3840 next 35\n",
      "2024-11-10 15:23:07.614870: I external/local_tsl/tsl/framework/bfc_allocator.cc:1095] InUse at 737c2a004500 of size 2048 next 34\n",
      "2024-11-10 15:23:07.614874: I external/local_tsl/tsl/framework/bfc_allocator.cc:1095] InUse at 737c2a004d00 of size 3584 next 38\n",
      "2024-11-10 15:23:07.614877: I external/local_tsl/tsl/framework/bfc_allocator.cc:1095] InUse at 737c2a005b00 of size 256 next 40\n",
      "2024-11-10 15:23:07.614881: I external/local_tsl/tsl/framework/bfc_allocator.cc:1095] InUse at 737c2a005c00 of size 256 next 41\n",
      "2024-11-10 15:23:07.614884: I external/local_tsl/tsl/framework/bfc_allocator.cc:1095] InUse at 737c2a005d00 of size 137216 next 15\n",
      "2024-11-10 15:23:07.614888: I external/local_tsl/tsl/framework/bfc_allocator.cc:1095] InUse at 737c2a027500 of size 73728 next 14\n",
      "2024-11-10 15:23:07.614891: I external/local_tsl/tsl/framework/bfc_allocator.cc:1095] InUse at 737c2a039500 of size 73728 next 42\n",
      "2024-11-10 15:23:07.614895: I external/local_tsl/tsl/framework/bfc_allocator.cc:1095] InUse at 737c2a04b500 of size 256 next 43\n",
      "2024-11-10 15:23:07.614898: I external/local_tsl/tsl/framework/bfc_allocator.cc:1095] InUse at 737c2a04b600 of size 256 next 44\n",
      "2024-11-10 15:23:07.614901: I external/local_tsl/tsl/framework/bfc_allocator.cc:1095] InUse at 737c2a04b700 of size 515584 next 20\n",
      "2024-11-10 15:23:07.614905: I external/local_tsl/tsl/framework/bfc_allocator.cc:1095] InUse at 737c2a0c9500 of size 294912 next 19\n",
      "2024-11-10 15:23:07.614909: I external/local_tsl/tsl/framework/bfc_allocator.cc:1095] InUse at 737c2a111500 of size 294912 next 45\n",
      "2024-11-10 15:23:07.614913: I external/local_tsl/tsl/framework/bfc_allocator.cc:1095] InUse at 737c2a159500 of size 512 next 46\n",
      "2024-11-10 15:23:07.614916: I external/local_tsl/tsl/framework/bfc_allocator.cc:1095] InUse at 737c2a159700 of size 512 next 47\n",
      "2024-11-10 15:23:07.614919: I external/local_tsl/tsl/framework/bfc_allocator.cc:1095] InUse at 737c2a159900 of size 512 next 50\n",
      "2024-11-10 15:23:07.614922: I external/local_tsl/tsl/framework/bfc_allocator.cc:1095] InUse at 737c2a159b00 of size 512 next 51\n",
      "2024-11-10 15:23:07.614925: I external/local_tsl/tsl/framework/bfc_allocator.cc:1095] InUse at 737c2a159d00 of size 2048 next 53\n",
      "2024-11-10 15:23:07.614929: I external/local_tsl/tsl/framework/bfc_allocator.cc:1095] InUse at 737c2a15a500 of size 2048 next 54\n",
      "2024-11-10 15:23:07.614932: I external/local_tsl/tsl/framework/bfc_allocator.cc:1095] InUse at 737c2a15ad00 of size 2048 next 55\n",
      "2024-11-10 15:23:07.614936: I external/local_tsl/tsl/framework/bfc_allocator.cc:1095] InUse at 737c2a15b500 of size 2048 next 56\n",
      "2024-11-10 15:23:07.614940: I external/local_tsl/tsl/framework/bfc_allocator.cc:1095] InUse at 737c2a15bd00 of size 256 next 57\n",
      "2024-11-10 15:23:07.614943: I external/local_tsl/tsl/framework/bfc_allocator.cc:1095] InUse at 737c2a15be00 of size 256 next 58\n",
      "2024-11-10 15:23:07.614946: I external/local_tsl/tsl/framework/bfc_allocator.cc:1095] InUse at 737c2a15bf00 of size 256 next 59\n",
      "2024-11-10 15:23:07.614949: I external/local_tsl/tsl/framework/bfc_allocator.cc:1095] InUse at 737c2a15c000 of size 256 next 60\n",
      "2024-11-10 15:23:07.614952: I external/local_tsl/tsl/framework/bfc_allocator.cc:1095] InUse at 737c2a15c100 of size 256 next 61\n",
      "2024-11-10 15:23:07.614956: I external/local_tsl/tsl/framework/bfc_allocator.cc:1095] InUse at 737c2a15c200 of size 256 next 62\n",
      "2024-11-10 15:23:07.614959: I external/local_tsl/tsl/framework/bfc_allocator.cc:1095] InUse at 737c2a15c300 of size 256 next 63\n",
      "2024-11-10 15:23:07.614962: I external/local_tsl/tsl/framework/bfc_allocator.cc:1095] InUse at 737c2a15c400 of size 256 next 64\n",
      "2024-11-10 15:23:07.614965: I external/local_tsl/tsl/framework/bfc_allocator.cc:1095] InUse at 737c2a15c500 of size 256 next 65\n",
      "2024-11-10 15:23:07.614968: I external/local_tsl/tsl/framework/bfc_allocator.cc:1095] InUse at 737c2a15c600 of size 256 next 66\n",
      "2024-11-10 15:23:07.614972: I external/local_tsl/tsl/framework/bfc_allocator.cc:1095] InUse at 737c2a15c700 of size 256 next 67\n",
      "2024-11-10 15:23:07.614975: I external/local_tsl/tsl/framework/bfc_allocator.cc:1095] InUse at 737c2a15c800 of size 256 next 69\n",
      "2024-11-10 15:23:07.614978: I external/local_tsl/tsl/framework/bfc_allocator.cc:1095] InUse at 737c2a15c900 of size 256 next 70\n",
      "2024-11-10 15:23:07.614982: I external/local_tsl/tsl/framework/bfc_allocator.cc:1095] InUse at 737c2a15ca00 of size 256 next 68\n",
      "2024-11-10 15:23:07.614985: I external/local_tsl/tsl/framework/bfc_allocator.cc:1095] Free  at 737c2a15cb00 of size 256 next 72\n",
      "2024-11-10 15:23:07.614988: I external/local_tsl/tsl/framework/bfc_allocator.cc:1095] InUse at 737c2a15cc00 of size 256 next 73\n",
      "2024-11-10 15:23:07.614991: I external/local_tsl/tsl/framework/bfc_allocator.cc:1095] Free  at 737c2a15cd00 of size 280576 next 24\n",
      "2024-11-10 15:23:07.614995: I external/local_tsl/tsl/framework/bfc_allocator.cc:1095] InUse at 737c2a1a1500 of size 589824 next 23\n",
      "2024-11-10 15:23:07.614999: I external/local_tsl/tsl/framework/bfc_allocator.cc:1095] InUse at 737c2a231500 of size 12845056 next 52\n",
      "2024-11-10 15:23:07.615002: I external/local_tsl/tsl/framework/bfc_allocator.cc:1095] Free  at 737c2ae71500 of size 4320000 next 71\n",
      "2024-11-10 15:23:07.615006: I external/local_tsl/tsl/framework/bfc_allocator.cc:1095] InUse at 737c2b290000 of size 8525056 next 30\n",
      "2024-11-10 15:23:07.615010: I external/local_tsl/tsl/framework/bfc_allocator.cc:1095] InUse at 737c2bab1500 of size 12845056 next 29\n",
      "2024-11-10 15:23:07.615013: I external/local_tsl/tsl/framework/bfc_allocator.cc:1095] InUse at 737c2c6f1500 of size 589824 next 48\n",
      "2024-11-10 15:23:07.615017: I external/local_tsl/tsl/framework/bfc_allocator.cc:1095] InUse at 737c2c781500 of size 589824 next 49\n",
      "2024-11-10 15:23:07.615020: I external/local_tsl/tsl/framework/bfc_allocator.cc:1095] InUse at 737c2c811500 of size 16444160 next 18446744073709551615\n",
      "2024-11-10 15:23:07.615024: I external/local_tsl/tsl/framework/bfc_allocator.cc:1100]      Summary of in-use Chunks by size: \n",
      "2024-11-10 15:23:07.615029: I external/local_tsl/tsl/framework/bfc_allocator.cc:1103] 42 Chunks of size 256 totalling 10.5KiB\n",
      "2024-11-10 15:23:07.615033: I external/local_tsl/tsl/framework/bfc_allocator.cc:1103] 6 Chunks of size 512 totalling 3.0KiB\n",
      "2024-11-10 15:23:07.615036: I external/local_tsl/tsl/framework/bfc_allocator.cc:1103] 1 Chunks of size 1280 totalling 1.2KiB\n",
      "2024-11-10 15:23:07.615040: I external/local_tsl/tsl/framework/bfc_allocator.cc:1103] 6 Chunks of size 2048 totalling 12.0KiB\n",
      "2024-11-10 15:23:07.615043: I external/local_tsl/tsl/framework/bfc_allocator.cc:1103] 2 Chunks of size 3584 totalling 7.0KiB\n",
      "2024-11-10 15:23:07.615047: I external/local_tsl/tsl/framework/bfc_allocator.cc:1103] 1 Chunks of size 3840 totalling 3.8KiB\n",
      "2024-11-10 15:23:07.615050: I external/local_tsl/tsl/framework/bfc_allocator.cc:1103] 2 Chunks of size 73728 totalling 144.0KiB\n",
      "2024-11-10 15:23:07.615054: I external/local_tsl/tsl/framework/bfc_allocator.cc:1103] 1 Chunks of size 137216 totalling 134.0KiB\n",
      "2024-11-10 15:23:07.615058: I external/local_tsl/tsl/framework/bfc_allocator.cc:1103] 2 Chunks of size 294912 totalling 576.0KiB\n",
      "2024-11-10 15:23:07.615062: I external/local_tsl/tsl/framework/bfc_allocator.cc:1103] 1 Chunks of size 515584 totalling 503.5KiB\n",
      "2024-11-10 15:23:07.615065: I external/local_tsl/tsl/framework/bfc_allocator.cc:1103] 3 Chunks of size 589824 totalling 1.69MiB\n",
      "2024-11-10 15:23:07.615069: I external/local_tsl/tsl/framework/bfc_allocator.cc:1103] 1 Chunks of size 8525056 totalling 8.13MiB\n",
      "2024-11-10 15:23:07.615073: I external/local_tsl/tsl/framework/bfc_allocator.cc:1103] 2 Chunks of size 12845056 totalling 24.50MiB\n",
      "2024-11-10 15:23:07.615077: I external/local_tsl/tsl/framework/bfc_allocator.cc:1103] 1 Chunks of size 16444160 totalling 15.68MiB\n",
      "2024-11-10 15:23:07.615081: I external/local_tsl/tsl/framework/bfc_allocator.cc:1107] Sum Total of in-use chunks: 51.36MiB\n",
      "2024-11-10 15:23:07.615100: I external/local_tsl/tsl/framework/bfc_allocator.cc:1109] Total bytes in pool: 58458112 memory_limit_: 58458112 available bytes: 0 curr_region_allocation_bytes_: 116916224\n",
      "2024-11-10 15:23:07.615107: I external/local_tsl/tsl/framework/bfc_allocator.cc:1114] Stats: \n",
      "Limit:                        58458112\n",
      "InUse:                        53857280\n",
      "MaxInUse:                     58177536\n",
      "NumAllocs:                         117\n",
      "MaxAllocSize:                 16444160\n",
      "Reserved:                            0\n",
      "PeakReserved:                        0\n",
      "LargestFreeBlock:                    0\n",
      "\n",
      "2024-11-10 15:23:07.615113: W external/local_tsl/tsl/framework/bfc_allocator.cc:497] **************************_______********xxxxxx***********************************************xxxxxx\n",
      "2024-11-10 15:23:07.615129: W tensorflow/core/framework/op_kernel.cc:1839] OP_REQUIRES failed at conv_ops_fused_impl.h:772 : RESOURCE_EXHAUSTED: OOM when allocating tensor with shape[16,32,148,148] and type float on /job:localhost/replica:0/task:0/device:GPU:0 by allocator GPU_0_bfc\n"
     ]
    },
    {
     "ename": "ResourceExhaustedError",
     "evalue": "Graph execution error:\n\nDetected at node sequential/conv2d/Relu defined at (most recent call last):\n  File \"<frozen runpy>\", line 198, in _run_module_as_main\n\n  File \"<frozen runpy>\", line 88, in _run_code\n\n  File \"/home/riemannintegrable/anaconda3/envs/tfenv2/lib/python3.11/site-packages/ipykernel_launcher.py\", line 18, in <module>\n\n  File \"/home/riemannintegrable/anaconda3/envs/tfenv2/lib/python3.11/site-packages/traitlets/config/application.py\", line 1075, in launch_instance\n\n  File \"/home/riemannintegrable/anaconda3/envs/tfenv2/lib/python3.11/site-packages/ipykernel/kernelapp.py\", line 739, in start\n\n  File \"/home/riemannintegrable/anaconda3/envs/tfenv2/lib/python3.11/site-packages/tornado/platform/asyncio.py\", line 205, in start\n\n  File \"/home/riemannintegrable/anaconda3/envs/tfenv2/lib/python3.11/asyncio/base_events.py\", line 608, in run_forever\n\n  File \"/home/riemannintegrable/anaconda3/envs/tfenv2/lib/python3.11/asyncio/base_events.py\", line 1936, in _run_once\n\n  File \"/home/riemannintegrable/anaconda3/envs/tfenv2/lib/python3.11/asyncio/events.py\", line 84, in _run\n\n  File \"/home/riemannintegrable/anaconda3/envs/tfenv2/lib/python3.11/site-packages/ipykernel/kernelbase.py\", line 545, in dispatch_queue\n\n  File \"/home/riemannintegrable/anaconda3/envs/tfenv2/lib/python3.11/site-packages/ipykernel/kernelbase.py\", line 534, in process_one\n\n  File \"/home/riemannintegrable/anaconda3/envs/tfenv2/lib/python3.11/site-packages/ipykernel/kernelbase.py\", line 437, in dispatch_shell\n\n  File \"/home/riemannintegrable/anaconda3/envs/tfenv2/lib/python3.11/site-packages/ipykernel/ipkernel.py\", line 362, in execute_request\n\n  File \"/home/riemannintegrable/anaconda3/envs/tfenv2/lib/python3.11/site-packages/ipykernel/kernelbase.py\", line 778, in execute_request\n\n  File \"/home/riemannintegrable/anaconda3/envs/tfenv2/lib/python3.11/site-packages/ipykernel/ipkernel.py\", line 449, in do_execute\n\n  File \"/home/riemannintegrable/anaconda3/envs/tfenv2/lib/python3.11/site-packages/ipykernel/zmqshell.py\", line 549, in run_cell\n\n  File \"/home/riemannintegrable/anaconda3/envs/tfenv2/lib/python3.11/site-packages/IPython/core/interactiveshell.py\", line 3075, in run_cell\n\n  File \"/home/riemannintegrable/anaconda3/envs/tfenv2/lib/python3.11/site-packages/IPython/core/interactiveshell.py\", line 3130, in _run_cell\n\n  File \"/home/riemannintegrable/anaconda3/envs/tfenv2/lib/python3.11/site-packages/IPython/core/async_helpers.py\", line 128, in _pseudo_sync_runner\n\n  File \"/home/riemannintegrable/anaconda3/envs/tfenv2/lib/python3.11/site-packages/IPython/core/interactiveshell.py\", line 3334, in run_cell_async\n\n  File \"/home/riemannintegrable/anaconda3/envs/tfenv2/lib/python3.11/site-packages/IPython/core/interactiveshell.py\", line 3517, in run_ast_nodes\n\n  File \"/home/riemannintegrable/anaconda3/envs/tfenv2/lib/python3.11/site-packages/IPython/core/interactiveshell.py\", line 3577, in run_code\n\n  File \"/tmp/ipykernel_10531/3656445495.py\", line 1, in <module>\n\n  File \"/home/riemannintegrable/anaconda3/envs/tfenv2/lib/python3.11/site-packages/keras/src/utils/traceback_utils.py\", line 65, in error_handler\n\n  File \"/home/riemannintegrable/anaconda3/envs/tfenv2/lib/python3.11/site-packages/keras/src/engine/training.py\", line 1807, in fit\n\n  File \"/home/riemannintegrable/anaconda3/envs/tfenv2/lib/python3.11/site-packages/keras/src/engine/training.py\", line 1401, in train_function\n\n  File \"/home/riemannintegrable/anaconda3/envs/tfenv2/lib/python3.11/site-packages/keras/src/engine/training.py\", line 1384, in step_function\n\n  File \"/home/riemannintegrable/anaconda3/envs/tfenv2/lib/python3.11/site-packages/keras/src/engine/training.py\", line 1373, in run_step\n\n  File \"/home/riemannintegrable/anaconda3/envs/tfenv2/lib/python3.11/site-packages/keras/src/engine/training.py\", line 1150, in train_step\n\n  File \"/home/riemannintegrable/anaconda3/envs/tfenv2/lib/python3.11/site-packages/keras/src/utils/traceback_utils.py\", line 65, in error_handler\n\n  File \"/home/riemannintegrable/anaconda3/envs/tfenv2/lib/python3.11/site-packages/keras/src/engine/training.py\", line 590, in __call__\n\n  File \"/home/riemannintegrable/anaconda3/envs/tfenv2/lib/python3.11/site-packages/keras/src/utils/traceback_utils.py\", line 65, in error_handler\n\n  File \"/home/riemannintegrable/anaconda3/envs/tfenv2/lib/python3.11/site-packages/keras/src/engine/base_layer.py\", line 1149, in __call__\n\n  File \"/home/riemannintegrable/anaconda3/envs/tfenv2/lib/python3.11/site-packages/keras/src/utils/traceback_utils.py\", line 96, in error_handler\n\n  File \"/home/riemannintegrable/anaconda3/envs/tfenv2/lib/python3.11/site-packages/keras/src/engine/sequential.py\", line 398, in call\n\n  File \"/home/riemannintegrable/anaconda3/envs/tfenv2/lib/python3.11/site-packages/keras/src/engine/functional.py\", line 515, in call\n\n  File \"/home/riemannintegrable/anaconda3/envs/tfenv2/lib/python3.11/site-packages/keras/src/engine/functional.py\", line 672, in _run_internal_graph\n\n  File \"/home/riemannintegrable/anaconda3/envs/tfenv2/lib/python3.11/site-packages/keras/src/utils/traceback_utils.py\", line 65, in error_handler\n\n  File \"/home/riemannintegrable/anaconda3/envs/tfenv2/lib/python3.11/site-packages/keras/src/engine/base_layer.py\", line 1149, in __call__\n\n  File \"/home/riemannintegrable/anaconda3/envs/tfenv2/lib/python3.11/site-packages/keras/src/utils/traceback_utils.py\", line 96, in error_handler\n\n  File \"/home/riemannintegrable/anaconda3/envs/tfenv2/lib/python3.11/site-packages/keras/src/layers/convolutional/base_conv.py\", line 321, in call\n\n  File \"/home/riemannintegrable/anaconda3/envs/tfenv2/lib/python3.11/site-packages/keras/src/activations.py\", line 306, in relu\n\n  File \"/home/riemannintegrable/anaconda3/envs/tfenv2/lib/python3.11/site-packages/keras/src/backend.py\", line 5395, in relu\n\nOOM when allocating tensor with shape[16,32,148,148] and type float on /job:localhost/replica:0/task:0/device:GPU:0 by allocator GPU_0_bfc\n\t [[{{node sequential/conv2d/Relu}}]]\nHint: If you want to see a list of allocated tensors when OOM happens, add report_tensor_allocations_upon_oom to RunOptions for current allocation info. This isn't available when running in Eager mode.\n [Op:__inference_train_function_1660]",
     "output_type": "error",
     "traceback": [
      "\u001b[0;31m---------------------------------------------------------------------------\u001b[0m",
      "\u001b[0;31mResourceExhaustedError\u001b[0m                    Traceback (most recent call last)",
      "Cell \u001b[0;32mIn[9], line 1\u001b[0m\n\u001b[0;32m----> 1\u001b[0m hist \u001b[38;5;241m=\u001b[39m \u001b[43mmodel\u001b[49m\u001b[38;5;241;43m.\u001b[39;49m\u001b[43mfit\u001b[49m\u001b[43m(\u001b[49m\u001b[43mtrain_generator\u001b[49m\u001b[43m,\u001b[49m\u001b[43m \u001b[49m\u001b[43msteps_per_epoch\u001b[49m\u001b[38;5;241;43m=\u001b[39;49m\u001b[38;5;241;43m2000\u001b[39;49m\u001b[38;5;241;43m/\u001b[39;49m\u001b[38;5;241;43m/\u001b[39;49m\u001b[38;5;241;43m32\u001b[39;49m\u001b[43m,\u001b[49m\n\u001b[1;32m      2\u001b[0m \u001b[43m                \u001b[49m\u001b[43mepochs\u001b[49m\u001b[38;5;241;43m=\u001b[39;49m\u001b[38;5;241;43m100\u001b[39;49m\u001b[43m,\u001b[49m\n\u001b[1;32m      3\u001b[0m \u001b[43m                \u001b[49m\u001b[43mvalidation_data\u001b[49m\u001b[38;5;241;43m=\u001b[39;49m\u001b[43mvalidation_generator\u001b[49m\u001b[43m,\u001b[49m\n\u001b[1;32m      4\u001b[0m \u001b[43m                 \u001b[49m\u001b[43mvalidation_steps\u001b[49m\u001b[38;5;241;43m=\u001b[39;49m\u001b[43m \u001b[49m\u001b[38;5;241;43m1000\u001b[39;49m\u001b[38;5;241;43m/\u001b[39;49m\u001b[38;5;241;43m/\u001b[39;49m\u001b[38;5;241;43m32\u001b[39;49m\u001b[43m,\u001b[49m\n\u001b[1;32m      5\u001b[0m \u001b[43m                 \u001b[49m\u001b[43mcallbacks\u001b[49m\u001b[38;5;241;43m=\u001b[39;49m\u001b[43m[\u001b[49m\u001b[43mcheckpoint\u001b[49m\u001b[43m]\u001b[49m\u001b[43m)\u001b[49m\n",
      "File \u001b[0;32m~/anaconda3/envs/tfenv2/lib/python3.11/site-packages/keras/src/utils/traceback_utils.py:70\u001b[0m, in \u001b[0;36mfilter_traceback.<locals>.error_handler\u001b[0;34m(*args, **kwargs)\u001b[0m\n\u001b[1;32m     67\u001b[0m     filtered_tb \u001b[38;5;241m=\u001b[39m _process_traceback_frames(e\u001b[38;5;241m.\u001b[39m__traceback__)\n\u001b[1;32m     68\u001b[0m     \u001b[38;5;66;03m# To get the full stack trace, call:\u001b[39;00m\n\u001b[1;32m     69\u001b[0m     \u001b[38;5;66;03m# `tf.debugging.disable_traceback_filtering()`\u001b[39;00m\n\u001b[0;32m---> 70\u001b[0m     \u001b[38;5;28;01mraise\u001b[39;00m e\u001b[38;5;241m.\u001b[39mwith_traceback(filtered_tb) \u001b[38;5;28;01mfrom\u001b[39;00m \u001b[38;5;28;01mNone\u001b[39;00m\n\u001b[1;32m     71\u001b[0m \u001b[38;5;28;01mfinally\u001b[39;00m:\n\u001b[1;32m     72\u001b[0m     \u001b[38;5;28;01mdel\u001b[39;00m filtered_tb\n",
      "File \u001b[0;32m~/anaconda3/envs/tfenv2/lib/python3.11/site-packages/tensorflow/python/eager/execute.py:53\u001b[0m, in \u001b[0;36mquick_execute\u001b[0;34m(op_name, num_outputs, inputs, attrs, ctx, name)\u001b[0m\n\u001b[1;32m     51\u001b[0m \u001b[38;5;28;01mtry\u001b[39;00m:\n\u001b[1;32m     52\u001b[0m   ctx\u001b[38;5;241m.\u001b[39mensure_initialized()\n\u001b[0;32m---> 53\u001b[0m   tensors \u001b[38;5;241m=\u001b[39m pywrap_tfe\u001b[38;5;241m.\u001b[39mTFE_Py_Execute(ctx\u001b[38;5;241m.\u001b[39m_handle, device_name, op_name,\n\u001b[1;32m     54\u001b[0m                                       inputs, attrs, num_outputs)\n\u001b[1;32m     55\u001b[0m \u001b[38;5;28;01mexcept\u001b[39;00m core\u001b[38;5;241m.\u001b[39m_NotOkStatusException \u001b[38;5;28;01mas\u001b[39;00m e:\n\u001b[1;32m     56\u001b[0m   \u001b[38;5;28;01mif\u001b[39;00m name \u001b[38;5;129;01mis\u001b[39;00m \u001b[38;5;129;01mnot\u001b[39;00m \u001b[38;5;28;01mNone\u001b[39;00m:\n",
      "\u001b[0;31mResourceExhaustedError\u001b[0m: Graph execution error:\n\nDetected at node sequential/conv2d/Relu defined at (most recent call last):\n  File \"<frozen runpy>\", line 198, in _run_module_as_main\n\n  File \"<frozen runpy>\", line 88, in _run_code\n\n  File \"/home/riemannintegrable/anaconda3/envs/tfenv2/lib/python3.11/site-packages/ipykernel_launcher.py\", line 18, in <module>\n\n  File \"/home/riemannintegrable/anaconda3/envs/tfenv2/lib/python3.11/site-packages/traitlets/config/application.py\", line 1075, in launch_instance\n\n  File \"/home/riemannintegrable/anaconda3/envs/tfenv2/lib/python3.11/site-packages/ipykernel/kernelapp.py\", line 739, in start\n\n  File \"/home/riemannintegrable/anaconda3/envs/tfenv2/lib/python3.11/site-packages/tornado/platform/asyncio.py\", line 205, in start\n\n  File \"/home/riemannintegrable/anaconda3/envs/tfenv2/lib/python3.11/asyncio/base_events.py\", line 608, in run_forever\n\n  File \"/home/riemannintegrable/anaconda3/envs/tfenv2/lib/python3.11/asyncio/base_events.py\", line 1936, in _run_once\n\n  File \"/home/riemannintegrable/anaconda3/envs/tfenv2/lib/python3.11/asyncio/events.py\", line 84, in _run\n\n  File \"/home/riemannintegrable/anaconda3/envs/tfenv2/lib/python3.11/site-packages/ipykernel/kernelbase.py\", line 545, in dispatch_queue\n\n  File \"/home/riemannintegrable/anaconda3/envs/tfenv2/lib/python3.11/site-packages/ipykernel/kernelbase.py\", line 534, in process_one\n\n  File \"/home/riemannintegrable/anaconda3/envs/tfenv2/lib/python3.11/site-packages/ipykernel/kernelbase.py\", line 437, in dispatch_shell\n\n  File \"/home/riemannintegrable/anaconda3/envs/tfenv2/lib/python3.11/site-packages/ipykernel/ipkernel.py\", line 362, in execute_request\n\n  File \"/home/riemannintegrable/anaconda3/envs/tfenv2/lib/python3.11/site-packages/ipykernel/kernelbase.py\", line 778, in execute_request\n\n  File \"/home/riemannintegrable/anaconda3/envs/tfenv2/lib/python3.11/site-packages/ipykernel/ipkernel.py\", line 449, in do_execute\n\n  File \"/home/riemannintegrable/anaconda3/envs/tfenv2/lib/python3.11/site-packages/ipykernel/zmqshell.py\", line 549, in run_cell\n\n  File \"/home/riemannintegrable/anaconda3/envs/tfenv2/lib/python3.11/site-packages/IPython/core/interactiveshell.py\", line 3075, in run_cell\n\n  File \"/home/riemannintegrable/anaconda3/envs/tfenv2/lib/python3.11/site-packages/IPython/core/interactiveshell.py\", line 3130, in _run_cell\n\n  File \"/home/riemannintegrable/anaconda3/envs/tfenv2/lib/python3.11/site-packages/IPython/core/async_helpers.py\", line 128, in _pseudo_sync_runner\n\n  File \"/home/riemannintegrable/anaconda3/envs/tfenv2/lib/python3.11/site-packages/IPython/core/interactiveshell.py\", line 3334, in run_cell_async\n\n  File \"/home/riemannintegrable/anaconda3/envs/tfenv2/lib/python3.11/site-packages/IPython/core/interactiveshell.py\", line 3517, in run_ast_nodes\n\n  File \"/home/riemannintegrable/anaconda3/envs/tfenv2/lib/python3.11/site-packages/IPython/core/interactiveshell.py\", line 3577, in run_code\n\n  File \"/tmp/ipykernel_10531/3656445495.py\", line 1, in <module>\n\n  File \"/home/riemannintegrable/anaconda3/envs/tfenv2/lib/python3.11/site-packages/keras/src/utils/traceback_utils.py\", line 65, in error_handler\n\n  File \"/home/riemannintegrable/anaconda3/envs/tfenv2/lib/python3.11/site-packages/keras/src/engine/training.py\", line 1807, in fit\n\n  File \"/home/riemannintegrable/anaconda3/envs/tfenv2/lib/python3.11/site-packages/keras/src/engine/training.py\", line 1401, in train_function\n\n  File \"/home/riemannintegrable/anaconda3/envs/tfenv2/lib/python3.11/site-packages/keras/src/engine/training.py\", line 1384, in step_function\n\n  File \"/home/riemannintegrable/anaconda3/envs/tfenv2/lib/python3.11/site-packages/keras/src/engine/training.py\", line 1373, in run_step\n\n  File \"/home/riemannintegrable/anaconda3/envs/tfenv2/lib/python3.11/site-packages/keras/src/engine/training.py\", line 1150, in train_step\n\n  File \"/home/riemannintegrable/anaconda3/envs/tfenv2/lib/python3.11/site-packages/keras/src/utils/traceback_utils.py\", line 65, in error_handler\n\n  File \"/home/riemannintegrable/anaconda3/envs/tfenv2/lib/python3.11/site-packages/keras/src/engine/training.py\", line 590, in __call__\n\n  File \"/home/riemannintegrable/anaconda3/envs/tfenv2/lib/python3.11/site-packages/keras/src/utils/traceback_utils.py\", line 65, in error_handler\n\n  File \"/home/riemannintegrable/anaconda3/envs/tfenv2/lib/python3.11/site-packages/keras/src/engine/base_layer.py\", line 1149, in __call__\n\n  File \"/home/riemannintegrable/anaconda3/envs/tfenv2/lib/python3.11/site-packages/keras/src/utils/traceback_utils.py\", line 96, in error_handler\n\n  File \"/home/riemannintegrable/anaconda3/envs/tfenv2/lib/python3.11/site-packages/keras/src/engine/sequential.py\", line 398, in call\n\n  File \"/home/riemannintegrable/anaconda3/envs/tfenv2/lib/python3.11/site-packages/keras/src/engine/functional.py\", line 515, in call\n\n  File \"/home/riemannintegrable/anaconda3/envs/tfenv2/lib/python3.11/site-packages/keras/src/engine/functional.py\", line 672, in _run_internal_graph\n\n  File \"/home/riemannintegrable/anaconda3/envs/tfenv2/lib/python3.11/site-packages/keras/src/utils/traceback_utils.py\", line 65, in error_handler\n\n  File \"/home/riemannintegrable/anaconda3/envs/tfenv2/lib/python3.11/site-packages/keras/src/engine/base_layer.py\", line 1149, in __call__\n\n  File \"/home/riemannintegrable/anaconda3/envs/tfenv2/lib/python3.11/site-packages/keras/src/utils/traceback_utils.py\", line 96, in error_handler\n\n  File \"/home/riemannintegrable/anaconda3/envs/tfenv2/lib/python3.11/site-packages/keras/src/layers/convolutional/base_conv.py\", line 321, in call\n\n  File \"/home/riemannintegrable/anaconda3/envs/tfenv2/lib/python3.11/site-packages/keras/src/activations.py\", line 306, in relu\n\n  File \"/home/riemannintegrable/anaconda3/envs/tfenv2/lib/python3.11/site-packages/keras/src/backend.py\", line 5395, in relu\n\nOOM when allocating tensor with shape[16,32,148,148] and type float on /job:localhost/replica:0/task:0/device:GPU:0 by allocator GPU_0_bfc\n\t [[{{node sequential/conv2d/Relu}}]]\nHint: If you want to see a list of allocated tensors when OOM happens, add report_tensor_allocations_upon_oom to RunOptions for current allocation info. This isn't available when running in Eager mode.\n [Op:__inference_train_function_1660]"
     ]
    }
   ],
   "source": [
    "hist = model.fit(train_generator, steps_per_epoch=2000//32,\n",
    "                epochs=100,\n",
    "                validation_data=validation_generator,\n",
    "                 validation_steps= 1000//32,\n",
    "                 callbacks=[checkpoint])"
   ]
  },
  {
   "cell_type": "markdown",
   "metadata": {},
   "source": [
    "## Resultados"
   ]
  },
  {
   "cell_type": "code",
   "execution_count": null,
   "metadata": {
    "execution": {
     "iopub.execute_input": "2021-11-11T23:16:55.610789Z",
     "iopub.status.busy": "2021-11-11T23:16:55.607807Z",
     "iopub.status.idle": "2021-11-11T23:16:55.620861Z",
     "shell.execute_reply": "2021-11-11T23:16:55.619542Z",
     "shell.execute_reply.started": "2021-11-11T23:16:55.610726Z"
    },
    "trusted": true
   },
   "outputs": [],
   "source": [
    "import matplotlib.pyplot as plt"
   ]
  },
  {
   "cell_type": "code",
   "execution_count": null,
   "metadata": {
    "execution": {
     "iopub.execute_input": "2021-11-11T23:17:34.902490Z",
     "iopub.status.busy": "2021-11-11T23:17:34.902109Z",
     "iopub.status.idle": "2021-11-11T23:17:35.189173Z",
     "shell.execute_reply": "2021-11-11T23:17:35.188183Z",
     "shell.execute_reply.started": "2021-11-11T23:17:34.902422Z"
    },
    "trusted": true
   },
   "outputs": [
    {
     "data": {
      "image/png": "[encoded data removed]",
      "text/plain": [
       "<Figure size 640x480 with 1 Axes>"
      ]
     },
     "metadata": {},
     "output_type": "display_data"
    }
   ],
   "source": [
    "plt.plot(hist.history['accuracy'], label = 'Train')\n",
    "plt.plot(hist.history['val_accuracy'], label = 'Val')\n",
    "plt.legend()\n",
    "plt.show()"
   ]
  },
  {
   "cell_type": "code",
   "execution_count": null,
   "metadata": {
    "execution": {
     "iopub.execute_input": "2021-11-11T23:17:37.358025Z",
     "iopub.status.busy": "2021-11-11T23:17:37.357380Z",
     "iopub.status.idle": "2021-11-11T23:17:37.681644Z",
     "shell.execute_reply": "2021-11-11T23:17:37.680336Z",
     "shell.execute_reply.started": "2021-11-11T23:17:37.357987Z"
    },
    "trusted": true
   },
   "outputs": [
    {
     "name": "stdout",
     "output_type": "stream",
     "text": [
      "Found 1000 images belonging to 2 classes.\n"
     ]
    }
   ],
   "source": [
    "test_generator = test_datagen.flow_from_directory('./cats_and_dogs/test',\n",
    "                                 target_size=(150,150),\n",
    "                                 batch_size=32,\n",
    "                                 class_mode='binary'\n",
    "                                 )"
   ]
  },
  {
   "cell_type": "code",
   "execution_count": null,
   "metadata": {
    "execution": {
     "iopub.execute_input": "2021-11-11T23:17:46.027482Z",
     "iopub.status.busy": "2021-11-11T23:17:46.027176Z",
     "iopub.status.idle": "2021-11-11T23:17:46.032653Z",
     "shell.execute_reply": "2021-11-11T23:17:46.031218Z",
     "shell.execute_reply.started": "2021-11-11T23:17:46.027449Z"
    },
    "trusted": true
   },
   "outputs": [],
   "source": [
    "model2 = model "
   ]
  },
  {
   "cell_type": "code",
   "execution_count": null,
   "metadata": {
    "execution": {
     "iopub.execute_input": "2021-11-11T23:17:50.007943Z",
     "iopub.status.busy": "2021-11-11T23:17:50.007641Z",
     "iopub.status.idle": "2021-11-11T23:17:50.045525Z",
     "shell.execute_reply": "2021-11-11T23:17:50.044281Z",
     "shell.execute_reply.started": "2021-11-11T23:17:50.007906Z"
    },
    "trusted": true
   },
   "outputs": [],
   "source": [
    "model2.load_weights('./modelo_perros_gatos.keras')"
   ]
  },
  {
   "cell_type": "code",
   "execution_count": null,
   "metadata": {
    "execution": {
     "iopub.execute_input": "2021-11-11T23:18:22.532203Z",
     "iopub.status.busy": "2021-11-11T23:18:22.531340Z",
     "iopub.status.idle": "2021-11-11T23:18:33.026379Z",
     "shell.execute_reply": "2021-11-11T23:18:33.025404Z",
     "shell.execute_reply.started": "2021-11-11T23:18:22.532160Z"
    },
    "trusted": true
   },
   "outputs": [
    {
     "name": "stdout",
     "output_type": "stream",
     "text": [
      "\u001b[1m 7/32\u001b[0m \u001b[32m━━━━\u001b[0m\u001b[37m━━━━━━━━━━━━━━━━\u001b[0m \u001b[1m0s\u001b[0m 27ms/step - accuracy: 0.5451 - loss: 0.6872"
     ]
    },
    {
     "name": "stderr",
     "output_type": "stream",
     "text": [
      "/home/riemannintegrable/anaconda3/envs/dsenv/lib/python3.11/site-packages/keras/src/trainers/data_adapters/py_dataset_adapter.py:121: UserWarning: Your `PyDataset` class should call `super().__init__(**kwargs)` in its constructor. `**kwargs` can include `workers`, `use_multiprocessing`, `max_queue_size`. Do not pass these arguments to `fit()`, as they will be ignored.\n",
      "  self._warn_if_super_not_called()\n"
     ]
    },
    {
     "name": "stdout",
     "output_type": "stream",
     "text": [
      "\u001b[1m32/32\u001b[0m \u001b[32m━━━━━━━━━━━━━━━━━━━━\u001b[0m\u001b[37m\u001b[0m \u001b[1m1s\u001b[0m 25ms/step - accuracy: 0.5264 - loss: 0.7096\n"
     ]
    },
    {
     "data": {
      "text/plain": [
       "[0.7146673798561096, 0.5189999938011169]"
      ]
     },
     "execution_count": 31,
     "metadata": {},
     "output_type": "execute_result"
    }
   ],
   "source": [
    "model2.evaluate(test_generator)"
   ]
  }
 ],
 "metadata": {
  "kernelspec": {
   "display_name": "tfenv2",
   "language": "python",
   "name": "python3"
  },
  "language_info": {
   "codemirror_mode": {
    "name": "ipython",
    "version": 3
   },
   "file_extension": ".py",
   "mimetype": "text/x-python",
   "name": "python",
   "nbconvert_exporter": "python",
   "pygments_lexer": "ipython3",
   "version": "3.11.9"
  }
 },
 "nbformat": 4,
 "nbformat_minor": 4
}
