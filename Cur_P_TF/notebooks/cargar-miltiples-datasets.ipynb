{
 "cells": [
  {
   "cell_type": "markdown",
   "metadata": {},
   "source": [
    "# Enlace a un zip de un json"
   ]
  },
  {
   "cell_type": "code",
   "execution_count": 49,
   "metadata": {},
   "outputs": [],
   "source": [
    "import os\n",
    "import zipfile"
   ]
  },
  {
   "cell_type": "code",
   "execution_count": 50,
   "metadata": {},
   "outputs": [
    {
     "name": "stdout",
     "output_type": "stream",
     "text": [
      "--2024-08-15 16:07:00--  https://storage.googleapis.com/platzi-tf2/databasesLoadData.zip\n",
      "Resolving storage.googleapis.com (storage.googleapis.com)... 142.250.78.59, 142.251.135.187, 142.250.78.123, ...\n",
      "Connecting to storage.googleapis.com (storage.googleapis.com)|142.250.78.59|:443... connected.\n",
      "HTTP request sent, awaiting response... 200 OK\n",
      "Length: 71662510 (68M) [application/zip]\n",
      "Saving to: ‘/tmp/databasesLoadData.zip’\n",
      "\n",
      "/tmp/databasesLoadD 100%[===================>]  68.34M  6.15MB/s    in 54s     \n",
      "\n",
      "2024-08-15 16:07:55 (1.26 MB/s) - ‘/tmp/databasesLoadData.zip’ saved [71662510/71662510]\n",
      "\n"
     ]
    }
   ],
   "source": [
    "!wget --no-check-certificate https://storage.googleapis.com/platzi-tf2/databasesLoadData.zip \\\n",
    "    -O /tmp/databasesLoadData.zip"
   ]
  },
  {
   "cell_type": "code",
   "execution_count": 51,
   "metadata": {},
   "outputs": [],
   "source": [
    "local_zip = '/tmp/databasesLoadData.zip'\n",
    "zip_ref = zipfile.ZipFile(local_zip, 'r')\n",
    "zip_ref.extractall('/tmp/databasesLoadData')\n",
    "zip_ref.close()"
   ]
  },
  {
   "cell_type": "code",
   "execution_count": 52,
   "metadata": {},
   "outputs": [],
   "source": [
    "url = \"/tmp/databasesLoadData/sign_mnist_json/data.json\""
   ]
  },
  {
   "cell_type": "markdown",
   "metadata": {},
   "source": [
    "# Con codecs"
   ]
  },
  {
   "cell_type": "code",
   "execution_count": 53,
   "metadata": {},
   "outputs": [],
   "source": [
    "import json\n",
    "import codecs\n",
    "import requests\n",
    "import numpy as np\n",
    "from PIL import Image\n",
    "from io import BytesIO\n",
    "%matplotlib inline\n",
    "import matplotlib.pyplot as plt"
   ]
  },
  {
   "cell_type": "code",
   "execution_count": 54,
   "metadata": {},
   "outputs": [],
   "source": [
    "data_json = []\n",
    "with codecs.open(url, 'r', encoding='utf-8') as js:\n",
    "    for line in js:\n",
    "        data_json.append(json.loads(line))"
   ]
  },
  {
   "cell_type": "code",
   "execution_count": 55,
   "metadata": {},
   "outputs": [],
   "source": [
    "images = []\n",
    "\n",
    "for data in data_json:\n",
    "  response = requests.get(data['content'])\n",
    "  img = np.asarray(Image.open(BytesIO(response.content)))\n",
    "  images.append([img, data[\"label\"]])"
   ]
  },
  {
   "cell_type": "code",
   "execution_count": 56,
   "metadata": {},
   "outputs": [
    {
     "data": {
      "text/plain": [
       "<matplotlib.image.AxesImage at 0x75c05a03b150>"
      ]
     },
     "execution_count": 56,
     "metadata": {},
     "output_type": "execute_result"
    },
    {
     "data": {
      "image/png": "[encoded data removed]",
      "text/plain": [
       "<Figure size 640x480 with 1 Axes>"
      ]
     },
     "metadata": {},
     "output_type": "display_data"
    }
   ],
   "source": [
    "plt.imshow(images[6][0])"
   ]
  },
  {
   "cell_type": "markdown",
   "metadata": {},
   "source": [
    "# Con base64"
   ]
  },
  {
   "cell_type": "code",
   "execution_count": 59,
   "metadata": {},
   "outputs": [
    {
     "data": {
      "image/jpeg": "[encoded data removed]",
      "image/png": "[encoded data removed]",
      "text/plain": [
       "<PIL.JpegImagePlugin.JpegImageFile image mode=L size=28x28>"
      ]
     },
     "execution_count": 59,
     "metadata": {},
     "output_type": "execute_result"
    }
   ],
   "source": [
    "import json\n",
    "import base64\n",
    "from PIL import Image\n",
    "\n",
    "url = \"/tmp/databasesLoadData/sign_mnist_base64/data.json\"\n",
    "with open(url) as f:\n",
    "    data = json.load(f)\n",
    "\n",
    "base64_img_bytes = data[\"b\"].encode(\"utf-8\")\n",
    "path_img = \"/tmp/decoded_image.png\"\n",
    "with open(path_img, \"wb\") as file_to_save:\n",
    "    decoded_image_data = base64.decodebytes(base64_img_bytes)  \n",
    "    file_to_save.write(decoded_image_data)\n",
    "\n",
    "img = Image.open(path_img)\n",
    "img"
   ]
  },
  {
   "cell_type": "markdown",
   "metadata": {},
   "source": [
    "# Con csv"
   ]
  },
  {
   "cell_type": "code",
   "execution_count": 60,
   "metadata": {},
   "outputs": [],
   "source": [
    "import numpy as np\n",
    "import pandas as pd\n",
    "import matplotlib.pyplot as plt\n",
    "from PIL import Image\n",
    "import seaborn as sns"
   ]
  },
  {
   "cell_type": "code",
   "execution_count": 63,
   "metadata": {},
   "outputs": [],
   "source": [
    "train = pd.read_csv('/tmp/databasesLoadData/sign_mnist_train/sign_mnist_train.csv')\n",
    "test = pd.read_csv('/tmp/databasesLoadData/sign_mnist_test/sign_mnist_test.csv')"
   ]
  }
 ],
 "metadata": {
  "kernelspec": {
   "display_name": "dsenv",
   "language": "python",
   "name": "python3"
  },
  "language_info": {
   "codemirror_mode": {
    "name": "ipython",
    "version": 3
   },
   "file_extension": ".py",
   "mimetype": "text/x-python",
   "name": "python",
   "nbconvert_exporter": "python",
   "pygments_lexer": "ipython3",
   "version": "3.11.9"
  }
 },
 "nbformat": 4,
 "nbformat_minor": 2
}
